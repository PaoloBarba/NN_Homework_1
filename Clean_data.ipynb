{
  "nbformat": 4,
  "nbformat_minor": 0,
  "metadata": {
    "colab": {
      "provenance": [],
      "authorship_tag": "ABX9TyNFDYN8YW3yr7LmnDu9cw1N",
      "include_colab_link": true
    },
    "kernelspec": {
      "name": "python3",
      "display_name": "Python 3"
    },
    "language_info": {
      "name": "python"
    }
  },
  "cells": [
    {
      "cell_type": "markdown",
      "metadata": {
        "id": "view-in-github",
        "colab_type": "text"
      },
      "source": [
        "<a href=\"https://colab.research.google.com/github/PaoloBarba/NN_Homework_1/blob/main/Clean_data.ipynb\" target=\"_parent\"><img src=\"https://colab.research.google.com/assets/colab-badge.svg\" alt=\"Open In Colab\"/></a>"
      ]
    },
    {
      "cell_type": "code",
      "execution_count": 1,
      "metadata": {
        "id": "D-JrjPVxNClE"
      },
      "outputs": [],
      "source": [
        "import pandas as pd\n",
        "import numpy as np\n",
        "from sklearn.preprocessing import StandardScaler"
      ]
    },
    {
      "cell_type": "code",
      "source": [
        "shots = pd.read_csv(\"shots.csv\")"
      ],
      "metadata": {
        "id": "PKc4hj2ZNVA3"
      },
      "execution_count": 2,
      "outputs": []
    },
    {
      "cell_type": "code",
      "source": [
        "np.unique(shots['outcome'])"
      ],
      "metadata": {
        "colab": {
          "base_uri": "https://localhost:8080/"
        },
        "id": "AZxOUjRlOpyN",
        "outputId": "2e68f1ec-7494-428a-b3f2-03b83f6a3b0a"
      },
      "execution_count": 3,
      "outputs": [
        {
          "output_type": "execute_result",
          "data": {
            "text/plain": [
              "array(['Blocked', 'Goal', 'Off T', 'Post', 'Saved', 'Saved Off Target',\n",
              "       'Saved to Post', 'Wayward'], dtype=object)"
            ]
          },
          "metadata": {},
          "execution_count": 3
        }
      ]
    },
    {
      "cell_type": "code",
      "source": [
        "# Substitute the not scoring value with all nogoal\n",
        "shots['outcome'] = shots['outcome'].replace(['Blocked', 'Off T' , 'Saved' ,'Post' , 'Saved Off Target' , 'Saved to Post' , 'Wayward'], 'No_Goal')\n",
        "\n"
      ],
      "metadata": {
        "id": "JJ8wGNIrNa6A"
      },
      "execution_count": 4,
      "outputs": []
    },
    {
      "cell_type": "code",
      "source": [
        "# Remove the useless variable\n",
        "shots.drop(['Unnamed: 0', 'player'], axis=1 , inplace = True)"
      ],
      "metadata": {
        "id": "KYFhUJyjO_Di"
      },
      "execution_count": 5,
      "outputs": []
    },
    {
      "cell_type": "code",
      "source": [
        "# Transform the dummies variables in one-hot vectors\n",
        "shots_dummies = pd.get_dummies(shots,\n",
        "                               columns=['bodypart','technique',\n",
        "                                        'first_touch' ,'state_of_play',\n",
        "                                        'inside_18_width' , 'inside_18_depth' ,\n",
        "                                        'inside_18' , 'bodypart_angle',\n",
        "                                        'significant_time' ])"
      ],
      "metadata": {
        "id": "2bU55yY4Q80b"
      },
      "execution_count": 6,
      "outputs": []
    },
    {
      "cell_type": "code",
      "source": [
        "# Normalization of the quantity variuables\n",
        "scaler = StandardScaler()\n",
        "shots[['location_x', 'location_y' , 'shot_distance' , 'shot_angle' ]] = scaler.fit_transform(shots[['location_x', 'location_y' , 'shot_distance' , 'shot_angle' ]])\n"
      ],
      "metadata": {
        "id": "-wPJGFt_RwEY"
      },
      "execution_count": 7,
      "outputs": []
    },
    {
      "cell_type": "code",
      "source": [
        "# Stack togheter categorical and numerical variable\n",
        "shots_categorical = shots_dummies.values\n",
        "shots_numerical = shots[['location_x', 'location_y' , 'shot_distance' , 'shot_angle' ]].values\n",
        "shots_combined = np.hstack((shots_categorical, shots_numerical  ))\n"
      ],
      "metadata": {
        "id": "m4z-sXa4SU0E"
      },
      "execution_count": 8,
      "outputs": []
    },
    {
      "cell_type": "code",
      "source": [
        "shots_combined = pd.DataFrame(shots_combined)"
      ],
      "metadata": {
        "id": "M91FYhulSmiJ"
      },
      "execution_count": 9,
      "outputs": []
    },
    {
      "cell_type": "code",
      "source": [
        "shots_combined.rename(columns={ 2 : 'outcome'}, inplace=True)"
      ],
      "metadata": {
        "id": "X5gIlJZwpC8A"
      },
      "execution_count": 10,
      "outputs": []
    },
    {
      "cell_type": "code",
      "source": [
        "shots_combined['outcome'] = shots_combined['outcome'].apply(lambda x : 0 if x == 'No_goal' else 1)"
      ],
      "metadata": {
        "id": "_GwTE0uue6ZK"
      },
      "execution_count": 12,
      "outputs": []
    },
    {
      "cell_type": "code",
      "source": [
        "shots_combined.to_csv('shots_for_nn.tsv', sep='\\t', index=False)"
      ],
      "metadata": {
        "id": "mVklp6mUTPTI"
      },
      "execution_count": 14,
      "outputs": []
    }
  ]
}