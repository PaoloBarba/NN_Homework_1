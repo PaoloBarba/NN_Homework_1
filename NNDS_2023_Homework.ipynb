{
  "nbformat": 4,
  "nbformat_minor": 0,
  "metadata": {
    "colab": {
      "provenance": [],
      "include_colab_link": true
    },
    "kernelspec": {
      "name": "python3",
      "display_name": "Python 3"
    },
    "language_info": {
      "name": "python"
    },
    "accelerator": "GPU"
  },
  "cells": [
    {
      "cell_type": "markdown",
      "metadata": {
        "id": "view-in-github",
        "colab_type": "text"
      },
      "source": [
        "<a href=\"https://colab.research.google.com/github/PaoloBarba/NN_Homework_1/blob/main/NNDS_2023_Homework.ipynb\" target=\"_parent\"><img src=\"https://colab.research.google.com/assets/colab-badge.svg\" alt=\"Open In Colab\"/></a>"
      ]
    },
    {
      "cell_type": "markdown",
      "source": [
        "# Neural Networks for Data Science Applications\n",
        "## Homework 1: Saliency maps for interpretability\n",
        "\n",
        "**Name**: *Paolo*\n",
        "\n",
        "**Matricola**: *1885324*\n",
        "\n",
        "> ✍ Upload the completed notebook **before 10/11/2023 at 23:59** on the Google Classroom page."
      ],
      "metadata": {
        "id": "BwfXT98e5hQc"
      }
    },
    {
      "cell_type": "code",
      "execution_count": 1,
      "metadata": {
        "id": "5V6Ph3UT44Xo"
      },
      "outputs": [],
      "source": [
        "import tensorflow as tf\n",
        "import matplotlib.pyplot as plt"
      ]
    },
    {
      "cell_type": "code",
      "source": [
        "# To ensure reproducible results (as much as possible)\n",
        "tf.keras.utils.set_random_seed(1234)"
      ],
      "metadata": {
        "id": "GkYGd_WY_2nq"
      },
      "execution_count": 2,
      "outputs": []
    },
    {
      "cell_type": "markdown",
      "source": [
        "### Overview\n",
        "\n",
        "Neural networks are powerful tools, but they are **black-boxes**, meaning that it is difficult to provide human-understandable explanations on what they are doing. The field of **explanaibility** is concerned with finding algorithms for achieving this. In this homework, you will be guided in implementing some basic explanaibility algorithms (**saliency maps**), which is an instructive way of playing with the TensorFlow autodiff framework.\n",
        "\n",
        "### Instructions\n",
        "\n",
        "1. The homework is divided into four mandatory exercises (**5 points in total**), and a few optional exercises. Optional exercises are provided if you like the topic and would like to explore more; you are free to ignore them or complete as many as you want. I will not grade them but I might provide feedback for especially nice solutions.\n",
        "2. Completing the homework successfully will remove 1 exercise from the end-of-term homework.\n",
        "3. If your grade does not satisfy you, you are also free to complete the full EoT homework to recover it.\n",
        "3. The grade can be kept for the entire academic year (up to October 2024).\n",
        "\n",
        "**IMPORTANT - read carefully before starting**:\n",
        "\n",
        "> 🟨 *External material*: if you use any external material or inspiration for the code, reference it *explicitly* in the corresponding cell. For the textual descriptions, copy-paste *is not allowed*. <ins>Not following these two points is an immediate 0 mark</ins>.\n",
        "\n",
        "> 🔵 *Grammar*: for the textual descriptions, I will remove points for too many grammatical or textual errors. Please try to be precise and provide nice-to-read descriptions, like if you were writing a report.\n",
        "\n",
        "> 🟥 *Vectorization and TensorFlow*: the homework must be done _fully in TensorFlow_ and vectorizing the code as much as possible (e.g., do not loop explicitly over the batch dimension).\n",
        "\n",
        "> 🟪 *Math*: you can also use LaTeX in Markdown if you need to write equations or if you need generic math notation."
      ],
      "metadata": {
        "id": "BmzKI83R0uYa"
      }
    },
    {
      "cell_type": "markdown",
      "source": [
        "## Warmup: Data loading\n",
        "\n",
        "For this homework, you can select any **tabular dataset** that you like, for either classification or regression. A few repositories that you can look at:\n",
        "\n",
        "1. The catalog of [TensorFlow Datasets](https://www.tensorflow.org/datasets/).\n",
        "2. The [Kaggle catalog](https://www.kaggle.com/data). For downloading data from Kaggle on Google Colab, you will need to [load your Kaggle authentication token](https://colab.research.google.com/github/corrieann/kaggle/blob/master/kaggle_api_in_colab.ipynb).\n",
        "3. The [UCI Machine Learning Repository](https://archive.ics.uci.edu/ml/datasets.php).\n",
        "4. The [🤗 HuggingFace Datasets](https://huggingface.co/docs/datasets/) repository.\n",
        "\n",
        "You are not bound to these; any open repository is okay. The choice of dataset will not influence the mark."
      ],
      "metadata": {
        "id": "SE7pCfZK2G5M"
      }
    },
    {
      "cell_type": "markdown",
      "source": [
        "✍ **DESCRIPTION OF THE CODE**\n",
        "\n",
        "*Provide a small description of the dataset below (e.g., source, task, bibliographic reference if necessary...), both as text and in the comments of the code.*\n",
        "\n",
        "The dataset originates from StatsBomb and has undergone\n",
        "necessary processing, It comprises records of matches played\n",
        "by Barcelona FC and by the usage of linear algebra I extracted relevant features such as distance, angle ecc...\n",
        "Then I cleaned the datast to be suitable for a neural network architecture.\n",
        "\n",
        " [It is possible to see the data cleaning procedure at the following link $\\href{https://github.com/PaoloBarba/NN_Homework_1/blob/main/Clean_data.ipynb}{\\text{Link to repository}}$\n",
        "]\n",
        "\n"
      ],
      "metadata": {
        "id": "fzThDtr4VJ5x"
      }
    },
    {
      "cell_type": "code",
      "source": [
        "# TODO: Insert any data loading code here. If the data loading part is complex,\n",
        "# consider using a separate .py file that you can attach to the submission.\n",
        "import pandas as pd\n",
        "import numpy as np\n",
        "from google.colab import files\n",
        "import os\n",
        "from zipfile import ZipFile\n",
        "uploaded = files.upload()\n",
        "os.environ['KAGGLE_CONFIG_DIR'] = \"/content\"\n",
        "!kaggle datasets download -d uciml/red-wine-quality-cortez-et-al-2009\n",
        "!chmod 600 /content/kaggle.json\n",
        "with ZipFile('red-wine-quality-cortez-et-al-2009.zip', 'r') as zipObj:\n",
        "   zipObj.extractall()\n",
        "   wine = pd.read_csv(\"winequality-red.csv\")"
      ],
      "metadata": {
        "id": "FpQj4F8n20LI",
        "outputId": "fa28e8f9-52c8-426b-ee95-1161d6039a07",
        "colab": {
          "base_uri": "https://localhost:8080/",
          "height": 90
        }
      },
      "execution_count": 9,
      "outputs": [
        {
          "output_type": "display_data",
          "data": {
            "text/plain": [
              "<IPython.core.display.HTML object>"
            ],
            "text/html": [
              "\n",
              "     <input type=\"file\" id=\"files-6c661b09-3749-4e07-bddb-33f1aa747559\" name=\"files[]\" multiple disabled\n",
              "        style=\"border:none\" />\n",
              "     <output id=\"result-6c661b09-3749-4e07-bddb-33f1aa747559\">\n",
              "      Upload widget is only available when the cell has been executed in the\n",
              "      current browser session. Please rerun this cell to enable.\n",
              "      </output>\n",
              "      <script>// Copyright 2017 Google LLC\n",
              "//\n",
              "// Licensed under the Apache License, Version 2.0 (the \"License\");\n",
              "// you may not use this file except in compliance with the License.\n",
              "// You may obtain a copy of the License at\n",
              "//\n",
              "//      http://www.apache.org/licenses/LICENSE-2.0\n",
              "//\n",
              "// Unless required by applicable law or agreed to in writing, software\n",
              "// distributed under the License is distributed on an \"AS IS\" BASIS,\n",
              "// WITHOUT WARRANTIES OR CONDITIONS OF ANY KIND, either express or implied.\n",
              "// See the License for the specific language governing permissions and\n",
              "// limitations under the License.\n",
              "\n",
              "/**\n",
              " * @fileoverview Helpers for google.colab Python module.\n",
              " */\n",
              "(function(scope) {\n",
              "function span(text, styleAttributes = {}) {\n",
              "  const element = document.createElement('span');\n",
              "  element.textContent = text;\n",
              "  for (const key of Object.keys(styleAttributes)) {\n",
              "    element.style[key] = styleAttributes[key];\n",
              "  }\n",
              "  return element;\n",
              "}\n",
              "\n",
              "// Max number of bytes which will be uploaded at a time.\n",
              "const MAX_PAYLOAD_SIZE = 100 * 1024;\n",
              "\n",
              "function _uploadFiles(inputId, outputId) {\n",
              "  const steps = uploadFilesStep(inputId, outputId);\n",
              "  const outputElement = document.getElementById(outputId);\n",
              "  // Cache steps on the outputElement to make it available for the next call\n",
              "  // to uploadFilesContinue from Python.\n",
              "  outputElement.steps = steps;\n",
              "\n",
              "  return _uploadFilesContinue(outputId);\n",
              "}\n",
              "\n",
              "// This is roughly an async generator (not supported in the browser yet),\n",
              "// where there are multiple asynchronous steps and the Python side is going\n",
              "// to poll for completion of each step.\n",
              "// This uses a Promise to block the python side on completion of each step,\n",
              "// then passes the result of the previous step as the input to the next step.\n",
              "function _uploadFilesContinue(outputId) {\n",
              "  const outputElement = document.getElementById(outputId);\n",
              "  const steps = outputElement.steps;\n",
              "\n",
              "  const next = steps.next(outputElement.lastPromiseValue);\n",
              "  return Promise.resolve(next.value.promise).then((value) => {\n",
              "    // Cache the last promise value to make it available to the next\n",
              "    // step of the generator.\n",
              "    outputElement.lastPromiseValue = value;\n",
              "    return next.value.response;\n",
              "  });\n",
              "}\n",
              "\n",
              "/**\n",
              " * Generator function which is called between each async step of the upload\n",
              " * process.\n",
              " * @param {string} inputId Element ID of the input file picker element.\n",
              " * @param {string} outputId Element ID of the output display.\n",
              " * @return {!Iterable<!Object>} Iterable of next steps.\n",
              " */\n",
              "function* uploadFilesStep(inputId, outputId) {\n",
              "  const inputElement = document.getElementById(inputId);\n",
              "  inputElement.disabled = false;\n",
              "\n",
              "  const outputElement = document.getElementById(outputId);\n",
              "  outputElement.innerHTML = '';\n",
              "\n",
              "  const pickedPromise = new Promise((resolve) => {\n",
              "    inputElement.addEventListener('change', (e) => {\n",
              "      resolve(e.target.files);\n",
              "    });\n",
              "  });\n",
              "\n",
              "  const cancel = document.createElement('button');\n",
              "  inputElement.parentElement.appendChild(cancel);\n",
              "  cancel.textContent = 'Cancel upload';\n",
              "  const cancelPromise = new Promise((resolve) => {\n",
              "    cancel.onclick = () => {\n",
              "      resolve(null);\n",
              "    };\n",
              "  });\n",
              "\n",
              "  // Wait for the user to pick the files.\n",
              "  const files = yield {\n",
              "    promise: Promise.race([pickedPromise, cancelPromise]),\n",
              "    response: {\n",
              "      action: 'starting',\n",
              "    }\n",
              "  };\n",
              "\n",
              "  cancel.remove();\n",
              "\n",
              "  // Disable the input element since further picks are not allowed.\n",
              "  inputElement.disabled = true;\n",
              "\n",
              "  if (!files) {\n",
              "    return {\n",
              "      response: {\n",
              "        action: 'complete',\n",
              "      }\n",
              "    };\n",
              "  }\n",
              "\n",
              "  for (const file of files) {\n",
              "    const li = document.createElement('li');\n",
              "    li.append(span(file.name, {fontWeight: 'bold'}));\n",
              "    li.append(span(\n",
              "        `(${file.type || 'n/a'}) - ${file.size} bytes, ` +\n",
              "        `last modified: ${\n",
              "            file.lastModifiedDate ? file.lastModifiedDate.toLocaleDateString() :\n",
              "                                    'n/a'} - `));\n",
              "    const percent = span('0% done');\n",
              "    li.appendChild(percent);\n",
              "\n",
              "    outputElement.appendChild(li);\n",
              "\n",
              "    const fileDataPromise = new Promise((resolve) => {\n",
              "      const reader = new FileReader();\n",
              "      reader.onload = (e) => {\n",
              "        resolve(e.target.result);\n",
              "      };\n",
              "      reader.readAsArrayBuffer(file);\n",
              "    });\n",
              "    // Wait for the data to be ready.\n",
              "    let fileData = yield {\n",
              "      promise: fileDataPromise,\n",
              "      response: {\n",
              "        action: 'continue',\n",
              "      }\n",
              "    };\n",
              "\n",
              "    // Use a chunked sending to avoid message size limits. See b/62115660.\n",
              "    let position = 0;\n",
              "    do {\n",
              "      const length = Math.min(fileData.byteLength - position, MAX_PAYLOAD_SIZE);\n",
              "      const chunk = new Uint8Array(fileData, position, length);\n",
              "      position += length;\n",
              "\n",
              "      const base64 = btoa(String.fromCharCode.apply(null, chunk));\n",
              "      yield {\n",
              "        response: {\n",
              "          action: 'append',\n",
              "          file: file.name,\n",
              "          data: base64,\n",
              "        },\n",
              "      };\n",
              "\n",
              "      let percentDone = fileData.byteLength === 0 ?\n",
              "          100 :\n",
              "          Math.round((position / fileData.byteLength) * 100);\n",
              "      percent.textContent = `${percentDone}% done`;\n",
              "\n",
              "    } while (position < fileData.byteLength);\n",
              "  }\n",
              "\n",
              "  // All done.\n",
              "  yield {\n",
              "    response: {\n",
              "      action: 'complete',\n",
              "    }\n",
              "  };\n",
              "}\n",
              "\n",
              "scope.google = scope.google || {};\n",
              "scope.google.colab = scope.google.colab || {};\n",
              "scope.google.colab._files = {\n",
              "  _uploadFiles,\n",
              "  _uploadFilesContinue,\n",
              "};\n",
              "})(self);\n",
              "</script> "
            ]
          },
          "metadata": {}
        },
        {
          "output_type": "stream",
          "name": "stdout",
          "text": [
            "Saving kaggle.json to kaggle (1).json\n",
            "red-wine-quality-cortez-et-al-2009.zip: Skipping, found more recently modified local copy (use --force to force download)\n"
          ]
        }
      ]
    },
    {
      "cell_type": "code",
      "source": [
        "X , y = wine.drop(columns=[\"quality\"]) , wine[\"quality\"]"
      ],
      "metadata": {
        "id": "BwfqIwtN6N6I"
      },
      "execution_count": 16,
      "outputs": []
    },
    {
      "cell_type": "code",
      "source": [
        "# Let us check the frequency of the target variable in  order to chooce the best\n",
        "# metric to maximize\n",
        "categ = pd.Series(y)\n",
        "value_counts = categ.value_counts()\n",
        "\n",
        "# Create the bar plot\n",
        "plt.bar(value_counts.index, value_counts.values)\n",
        "plt.xlabel('Categories')\n",
        "plt.ylabel('Frequency')\n",
        "plt.title('Bar Plot of Outcome varible')\n",
        "plt.show()\n"
      ],
      "metadata": {
        "id": "uGlEnttcanSu",
        "outputId": "f85f0397-38e3-4c82-cdab-8637fd033e4e",
        "colab": {
          "base_uri": "https://localhost:8080/",
          "height": 472
        }
      },
      "execution_count": 17,
      "outputs": [
        {
          "output_type": "display_data",
          "data": {
            "text/plain": [
              "<Figure size 640x480 with 1 Axes>"
            ],
            "image/png": "[encoded data removed]"
          },
          "metadata": {}
        }
      ]
    },
    {
      "cell_type": "code",
      "source": [
        "y[y <= 5] = 0\n",
        "y[y > 5] = 1"
      ],
      "metadata": {
        "id": "TD2M_97T-gKO",
        "outputId": "7d68c0da-9485-40ef-ebc1-1c4bcca04879",
        "colab": {
          "base_uri": "https://localhost:8080/"
        }
      },
      "execution_count": 21,
      "outputs": [
        {
          "output_type": "stream",
          "name": "stderr",
          "text": [
            "<ipython-input-21-957bc80b0770>:1: SettingWithCopyWarning: \n",
            "A value is trying to be set on a copy of a slice from a DataFrame\n",
            "\n",
            "See the caveats in the documentation: https://pandas.pydata.org/pandas-docs/stable/user_guide/indexing.html#returning-a-view-versus-a-copy\n",
            "  y[y <= 5] = 0\n",
            "<ipython-input-21-957bc80b0770>:2: SettingWithCopyWarning: \n",
            "A value is trying to be set on a copy of a slice from a DataFrame\n",
            "\n",
            "See the caveats in the documentation: https://pandas.pydata.org/pandas-docs/stable/user_guide/indexing.html#returning-a-view-versus-a-copy\n",
            "  y[y > 5] = 1\n"
          ]
        }
      ]
    },
    {
      "cell_type": "code",
      "source": [
        "from sklearn.model_selection import train_test_split\n",
        "\n",
        "X_train, X_test, y_train, y_test = train_test_split(X, y, test_size=0.3, random_state=123)\n"
      ],
      "metadata": {
        "id": "AcxN4Y2Avccb"
      },
      "execution_count": 22,
      "outputs": []
    },
    {
      "cell_type": "markdown",
      "source": [
        "From the above plot it seems that the dataset is unbalance on the target variable 'outcome'. The decision of the metric we want to maximize has to take into account the unbalancness of the target varibale. I will choose the following metric\n",
        "\n",
        "\n",
        "$$\n",
        "\\textbf{Balanced Accuracy} = \\frac{1}{2} \\left( \\frac{TP}{TP+FN} + \\frac{TN}{TN+FP} \\right)$$\n"
      ],
      "metadata": {
        "id": "AH3LaLW-b1N7"
      }
    },
    {
      "cell_type": "markdown",
      "source": [
        "### Exercise 1: Train a neural network model (1 point)\n",
        "\n",
        "Define, train, and test a neural network for the provided dataset.\n",
        "\n",
        "☝ You are free to make any modelling choice (e.g., activation function, normalization layers, etc.), provided the result makes sense.\n",
        "\n",
        "✅ **Completion requirement**: print on screen the test accuracy of the network. Additional comments and visualizations are also appreciated."
      ],
      "metadata": {
        "id": "5Myy-Aq33upU"
      }
    },
    {
      "cell_type": "code",
      "source": [
        "from sklearn.model_selection import train_test_split\n",
        "from tensorflow.keras.models import Sequential\n",
        "from tensorflow.keras.layers import Dense , BatchNormalization\n",
        "\n",
        "from sklearn.preprocessing import StandardScaler\n",
        "\n",
        "model = Sequential([\n",
        "    BatchNormalization(),\n",
        "    Dense(256, activation='relu'),\n",
        "    Dense(1),\n",
        "])\n",
        "\n",
        "# Compile the model\n",
        "model.compile(optimizer='adam', loss='binary_crossentropy', metrics= ['accuracy'])\n",
        "\n",
        "# Train the modelfit\n",
        "fitted_model = model.fit(X_train, y_train, epochs=30, batch_size = 32, validation_split = 0.3)\n"
      ],
      "metadata": {
        "id": "_gTJIyBm5WHB",
        "outputId": "3c4b4862-7b4e-49b2-cad1-dcfaac3c5aaf",
        "colab": {
          "base_uri": "https://localhost:8080/"
        }
      },
      "execution_count": 35,
      "outputs": [
        {
          "output_type": "stream",
          "name": "stdout",
          "text": [
            "Epoch 1/30\n",
            "25/25 [==============================] - 2s 12ms/step - loss: 1.0961 - accuracy: 0.6156 - val_loss: 6.6262 - val_accuracy: 0.5655\n",
            "Epoch 2/30\n",
            "25/25 [==============================] - 0s 5ms/step - loss: 0.7472 - accuracy: 0.7152 - val_loss: 6.5247 - val_accuracy: 0.5655\n",
            "Epoch 3/30\n",
            "25/25 [==============================] - 0s 5ms/step - loss: 0.6464 - accuracy: 0.6960 - val_loss: 5.8872 - val_accuracy: 0.5655\n",
            "Epoch 4/30\n",
            "25/25 [==============================] - 0s 5ms/step - loss: 0.6271 - accuracy: 0.7165 - val_loss: 5.0334 - val_accuracy: 0.5655\n",
            "Epoch 5/30\n",
            "25/25 [==============================] - 0s 6ms/step - loss: 0.6483 - accuracy: 0.7395 - val_loss: 2.5023 - val_accuracy: 0.5923\n",
            "Epoch 6/30\n",
            "25/25 [==============================] - 0s 7ms/step - loss: 0.6440 - accuracy: 0.7433 - val_loss: 2.2503 - val_accuracy: 0.5744\n",
            "Epoch 7/30\n",
            "25/25 [==============================] - 0s 5ms/step - loss: 0.6121 - accuracy: 0.7433 - val_loss: 0.8720 - val_accuracy: 0.7411\n",
            "Epoch 8/30\n",
            "25/25 [==============================] - 0s 5ms/step - loss: 0.6392 - accuracy: 0.7216 - val_loss: 0.9573 - val_accuracy: 0.7470\n",
            "Epoch 9/30\n",
            "25/25 [==============================] - 0s 7ms/step - loss: 0.6340 - accuracy: 0.7561 - val_loss: 0.8781 - val_accuracy: 0.7321\n",
            "Epoch 10/30\n",
            "25/25 [==============================] - 0s 5ms/step - loss: 0.6013 - accuracy: 0.7446 - val_loss: 0.7135 - val_accuracy: 0.7083\n",
            "Epoch 11/30\n",
            "25/25 [==============================] - 0s 7ms/step - loss: 0.5919 - accuracy: 0.7446 - val_loss: 0.6679 - val_accuracy: 0.7411\n",
            "Epoch 12/30\n",
            "25/25 [==============================] - 0s 5ms/step - loss: 0.5703 - accuracy: 0.7433 - val_loss: 0.8834 - val_accuracy: 0.7262\n",
            "Epoch 13/30\n",
            "25/25 [==============================] - 0s 7ms/step - loss: 0.7037 - accuracy: 0.7114 - val_loss: 0.8438 - val_accuracy: 0.6964\n",
            "Epoch 14/30\n",
            "25/25 [==============================] - 0s 6ms/step - loss: 0.7304 - accuracy: 0.7216 - val_loss: 0.8972 - val_accuracy: 0.7143\n",
            "Epoch 15/30\n",
            "25/25 [==============================] - 0s 5ms/step - loss: 0.6688 - accuracy: 0.7280 - val_loss: 0.8335 - val_accuracy: 0.6518\n",
            "Epoch 16/30\n",
            "25/25 [==============================] - 0s 7ms/step - loss: 0.6638 - accuracy: 0.7510 - val_loss: 0.6082 - val_accuracy: 0.7262\n",
            "Epoch 17/30\n",
            "25/25 [==============================] - 0s 7ms/step - loss: 0.5557 - accuracy: 0.7561 - val_loss: 0.5943 - val_accuracy: 0.7500\n",
            "Epoch 18/30\n",
            "25/25 [==============================] - 0s 5ms/step - loss: 0.5437 - accuracy: 0.7688 - val_loss: 0.5918 - val_accuracy: 0.7381\n",
            "Epoch 19/30\n",
            "25/25 [==============================] - 0s 5ms/step - loss: 0.5395 - accuracy: 0.7727 - val_loss: 0.5906 - val_accuracy: 0.7232\n",
            "Epoch 20/30\n",
            "25/25 [==============================] - 0s 5ms/step - loss: 1.1792 - accuracy: 0.6667 - val_loss: 1.1502 - val_accuracy: 0.6012\n",
            "Epoch 21/30\n",
            "25/25 [==============================] - 0s 7ms/step - loss: 0.9488 - accuracy: 0.6743 - val_loss: 0.6793 - val_accuracy: 0.7054\n",
            "Epoch 22/30\n",
            "25/25 [==============================] - 0s 6ms/step - loss: 0.7186 - accuracy: 0.6999 - val_loss: 0.6708 - val_accuracy: 0.7054\n",
            "Epoch 23/30\n",
            "25/25 [==============================] - 0s 6ms/step - loss: 0.6736 - accuracy: 0.7420 - val_loss: 0.6975 - val_accuracy: 0.7440\n",
            "Epoch 24/30\n",
            "25/25 [==============================] - 0s 6ms/step - loss: 0.6137 - accuracy: 0.7637 - val_loss: 0.6375 - val_accuracy: 0.7351\n",
            "Epoch 25/30\n",
            "25/25 [==============================] - 0s 7ms/step - loss: 0.5612 - accuracy: 0.7548 - val_loss: 0.6059 - val_accuracy: 0.7351\n",
            "Epoch 26/30\n",
            "25/25 [==============================] - 0s 7ms/step - loss: 0.5090 - accuracy: 0.7791 - val_loss: 0.5940 - val_accuracy: 0.7530\n",
            "Epoch 27/30\n",
            "25/25 [==============================] - 0s 6ms/step - loss: 0.5215 - accuracy: 0.7599 - val_loss: 0.6003 - val_accuracy: 0.7321\n",
            "Epoch 28/30\n",
            "25/25 [==============================] - 0s 5ms/step - loss: 0.5221 - accuracy: 0.7676 - val_loss: 0.6431 - val_accuracy: 0.7351\n",
            "Epoch 29/30\n",
            "25/25 [==============================] - 0s 6ms/step - loss: 0.5432 - accuracy: 0.7548 - val_loss: 0.6716 - val_accuracy: 0.7232\n",
            "Epoch 30/30\n",
            "25/25 [==============================] - 0s 5ms/step - loss: 0.5083 - accuracy: 0.7714 - val_loss: 0.6686 - val_accuracy: 0.7232\n"
          ]
        }
      ]
    },
    {
      "cell_type": "code",
      "source": [
        "train_loss = fitted_model.history['loss']\n",
        "val_loss = fitted_model.history['val_loss']\n",
        "train_metric = fitted_model.history['accuracy']  # Replace 'your_metric' with the name of your metric\n",
        "val_metric = fitted_model.history['val_accuracy']  # Replace 'your_metric' with the name of your metric\n",
        "\n",
        "# Plot the training loss\n",
        "plt.figure(figsize=(10, 5))\n",
        "plt.plot(np.arange(1, len(train_loss)+1), train_loss, label='Training Loss')\n",
        "plt.plot(np.arange(1, len(val_loss)+1), val_loss, label='Validation Loss')\n",
        "plt.xlabel('Epochs')\n",
        "plt.ylabel('Loss')\n",
        "plt.title('Training and Validation Loss')\n",
        "plt.legend()\n",
        "plt.show()\n",
        "\n",
        "# Plot the training metric\n",
        "plt.figure(figsize=(10, 5))\n",
        "plt.plot(np.arange(1, len(train_metric)+1), train_metric, label='Training Metric')\n",
        "plt.plot(np.arange(1, len(val_metric)+1), val_metric, label='Validation Metric')\n",
        "plt.xlabel('Epochs')\n",
        "plt.ylabel('Metric Value')\n",
        "plt.title('Training and Validation Metric')\n",
        "plt.legend()\n",
        "plt.show()\n"
      ],
      "metadata": {
        "colab": {
          "base_uri": "https://localhost:8080/",
          "height": 957
        },
        "id": "TPUd45FMyjSK",
        "outputId": "6c0b3fb0-c93a-41c2-8327-0bb2a3cbe79b"
      },
      "execution_count": 36,
      "outputs": [
        {
          "output_type": "display_data",
          "data": {
            "text/plain": [
              "<Figure size 1000x500 with 1 Axes>"
            ],
            "image/png": "[encoded data removed]"
          },
          "metadata": {}
        },
        {
          "output_type": "display_data",
          "data": {
            "text/plain": [
              "<Figure size 1000x500 with 1 Axes>"
            ],
            "image/png": "[encoded data removed]"
          },
          "metadata": {}
        }
      ]
    },
    {
      "cell_type": "code",
      "source": [
        "# TODO: test the neural network and print the result on screen.\n",
        "# Evaluate the model on the test set\n",
        "test_loss, test_accuracy = model.evaluate(X_test, y_test)"
      ],
      "metadata": {
        "id": "cJJFyts8Wqez",
        "colab": {
          "base_uri": "https://localhost:8080/"
        },
        "outputId": "a59255f1-5841-4e99-f827-6b4d26c1ea4b"
      },
      "execution_count": 37,
      "outputs": [
        {
          "output_type": "stream",
          "name": "stdout",
          "text": [
            "15/15 [==============================] - 0s 3ms/step - loss: 0.7189 - accuracy: 0.7312\n"
          ]
        }
      ]
    },
    {
      "cell_type": "code",
      "source": [
        "from sklearn.metrics import confusion_matrix, ConfusionMatrixDisplay\n",
        "\n",
        "y_pred = model.predict(X_test)\n",
        "y_pred[y_pred >=.5] = 1\n",
        "y_pred[y_pred < .5] = 0\n",
        "\n",
        "# Assuming y_true and y_pred are the true and predicted labels respectively\n",
        "confusion_mtx = confusion_matrix(y_test, y_pred)\n",
        "\n",
        "# Define class labels (optional, if applicable)\n",
        "class_names = ['Class 0', 'Class 1']  # Replace with your actual class labels\n",
        "\n",
        "# Plot the confusion matrix\n",
        "disp = ConfusionMatrixDisplay(confusion_matrix=confusion_mtx, display_labels=class_names)\n",
        "disp.plot(cmap=plt.cm.Blues, values_format='d')  # cmap is the color map for the matrix\n",
        "\n",
        "plt.title('Confusion Matrix')\n",
        "plt.show()"
      ],
      "metadata": {
        "colab": {
          "base_uri": "https://localhost:8080/",
          "height": 489
        },
        "id": "NIsCqTsF0nLu",
        "outputId": "ec54bffa-b9c0-44a6-cc59-2f47c0ea10f0"
      },
      "execution_count": 39,
      "outputs": [
        {
          "output_type": "stream",
          "name": "stdout",
          "text": [
            "15/15 [==============================] - 0s 3ms/step\n"
          ]
        },
        {
          "output_type": "display_data",
          "data": {
            "text/plain": [
              "<Figure size 640x480 with 2 Axes>"
            ],
            "image/png": "[encoded data removed]"
          },
          "metadata": {}
        }
      ]
    },
    {
      "cell_type": "markdown",
      "source": [
        "### Exercise 2: Computing a vanilla saliency map (1 points)\n",
        "\n",
        "> Before starting, I suggest you read [1] as a warm-up. This is one of the first papers that tried to apply this kind of techniques to modern neural networks.\n",
        "\n",
        "What do we mean by explainability? Consider the neural network $f(\\cdot)$ you just trained, and a prediction $\\hat{y} = f(x)$ we want to analyze. **Feature attribution** methods try to assign a weight $w_i$ to each input feature $x_i$, to understand which parts of the input have contributed the most to the explanation.\n",
        "\n",
        "The simplest feature attribution technique, called **vanilla saliency map**, simply computes the gradient at that point:\n",
        "\n",
        "$$\n",
        "  S(x) = \\left\\lvert \\frac{\\partial f_c(x)}{\\partial x} \\right\\rvert\n",
        "$$\n",
        "\n",
        "where  $c$ is the index corresponding to the predicted class.\n",
        "\n",
        "✅ **Completion requirement**: Take any point from your test dataset, and compute a saliency map using `tf.GradientTape`. Check the weight to see if you can find anything to \"interpret\". **Note**: I am not evaluating how nice / good the explanation is, only the code."
      ],
      "metadata": {
        "id": "0i1Jr0mQ7lRY"
      }
    },
    {
      "cell_type": "code",
      "source": [],
      "metadata": {
        "id": "2i9xdFGGCeG_",
        "outputId": "cbcdf701-8a8e-422f-af96-6d7ac40695d2",
        "colab": {
          "base_uri": "https://localhost:8080/"
        }
      },
      "execution_count": 44,
      "outputs": [
        {
          "output_type": "execute_result",
          "data": {
            "text/plain": [
              "fixed acidity            7.8000\n",
              "volatile acidity         0.8800\n",
              "citric acid              0.0000\n",
              "residual sugar           2.6000\n",
              "chlorides                0.0980\n",
              "free sulfur dioxide     25.0000\n",
              "total sulfur dioxide    67.0000\n",
              "density                  0.9968\n",
              "pH                       3.2000\n",
              "sulphates                0.6800\n",
              "alcohol                  9.8000\n",
              "Name: 1, dtype: float64"
            ]
          },
          "metadata": {},
          "execution_count": 44
        }
      ]
    },
    {
      "cell_type": "code",
      "source": [
        "X.iloc[1].to_numpy().reshape(1, -1).shape"
      ],
      "metadata": {
        "id": "uqQ8LUHoD07o",
        "outputId": "d9d9220c-7488-43cc-a9e0-2edbe87b3c02",
        "colab": {
          "base_uri": "https://localhost:8080/"
        }
      },
      "execution_count": 65,
      "outputs": [
        {
          "output_type": "execute_result",
          "data": {
            "text/plain": [
              "(1, 11)"
            ]
          },
          "metadata": {},
          "execution_count": 65
        }
      ]
    },
    {
      "cell_type": "code",
      "source": [
        "X.head(1).shape"
      ],
      "metadata": {
        "id": "DDqcuburEzQd",
        "outputId": "70b8ee74-d4fb-4efb-9efe-68729bbf4721",
        "colab": {
          "base_uri": "https://localhost:8080/"
        }
      },
      "execution_count": 61,
      "outputs": [
        {
          "output_type": "execute_result",
          "data": {
            "text/plain": [
              "(1, 11)"
            ]
          },
          "metadata": {},
          "execution_count": 61
        }
      ]
    },
    {
      "cell_type": "code",
      "source": [
        "# TODO: Take an element from your test set and compute the saliency map\n",
        "sample = X.iloc[0].values\n",
        "sample = tf.convert_to_tensor(sample, dtype=tf.float32)\n",
        "sample = tf.expand_dims(sample, axis=0)\n",
        "y_true = y[0]\n",
        "print(f\"the true value of the target variable is {y_true}\")\n",
        "with tf.GradientTape() as tape:\n",
        "    tape.watch(sample)\n",
        "    predictions = model(sample)\n",
        "    loss = tf.keras.losses.binary_crossentropy(y_true, predictions)  # Assuming 'y_true' is your ground truth labels\n",
        "\n",
        "gradients = tape.gradient(loss, sample)\n",
        "print(\"The gradient \\n\",gradients)\n",
        "print(\"the most discimative variable is \", X.columns[np.argmax(gradients)])"
      ],
      "metadata": {
        "id": "WGeQDlEpJ-3b",
        "outputId": "0f43a89e-afcc-4c3c-b05e-2f99f70b7d34",
        "colab": {
          "base_uri": "https://localhost:8080/"
        }
      },
      "execution_count": 87,
      "outputs": [
        {
          "output_type": "stream",
          "name": "stdout",
          "text": [
            "the true value of the target variable is 0\n",
            "The gradient \n",
            " tf.Tensor(\n",
            "[[ 1.3349102e-01 -7.5117302e-01 -1.1226673e+00 -9.5651798e-02\n",
            "  -1.9137584e+00 -2.2942380e-03  6.0752421e-03  8.6737366e+00\n",
            "  -1.0565356e+00  2.5769472e+00  1.8239099e-01]], shape=(1, 11), dtype=float32)\n",
            "the most discimative variable is  density\n"
          ]
        }
      ]
    },
    {
      "cell_type": "code",
      "source": [
        "sample = X.iloc[3].values\n",
        "sample = tf.convert_to_tensor(sample, dtype=tf.float32)\n",
        "sample = tf.expand_dims(sample, axis=0)\n",
        "y_true = y[3]\n",
        "print(f\"the true value of the target variable is {y_true}\")\n",
        "with tf.GradientTape() as tape:\n",
        "    tape.watch(sample)\n",
        "    predictions = model(sample)\n",
        "    loss = tf.keras.losses.binary_crossentropy(y_true, predictions)  # Assuming 'y_true' is your ground truth labels\n",
        "\n",
        "gradients = tape.gradient(loss, sample)\n",
        "print(\"The gradient \\n\",gradients)\n",
        "print(\"the most discimative variable is \", X.columns[np.argmax(gradients)])"
      ],
      "metadata": {
        "id": "CCLgx91uHhiy",
        "outputId": "ec963f28-c300-493e-f8bd-28f8405d706f",
        "colab": {
          "base_uri": "https://localhost:8080/"
        }
      },
      "execution_count": 88,
      "outputs": [
        {
          "output_type": "stream",
          "name": "stdout",
          "text": [
            "the true value of the target variable is 1\n",
            "The gradient \n",
            " tf.Tensor(\n",
            "[[-0.12293854  0.98736477 -0.25937122  0.19478345  3.5498083  -0.01000466\n",
            "   0.01489005 -4.0678816  -1.6564363  -0.7318009  -0.22600432]], shape=(1, 11), dtype=float32)\n",
            "the most discimative variable is  chlorides\n"
          ]
        }
      ]
    },
    {
      "cell_type": "code",
      "source": [
        "# TODO: Check the saliency map to analyze the result. What can you say about the map?"
      ],
      "metadata": {
        "id": "o4nEAHpD6dlc"
      },
      "execution_count": null,
      "outputs": []
    },
    {
      "cell_type": "markdown",
      "source": [
        "### Exercise 3: Advanced saliency maps (1 point)\n",
        "\n",
        "> For this exercise, you can read [2] for an overview on the limits of vanilla saliency maps and a description of SmoothGrad.\n",
        "\n",
        "Saliency maps have several issues: most notably, they suffer from noise and they are not stable to small changes in the input or in the model (try running again the training and interpreting the same point). Many methods have been proposed to overcome this.\n",
        "\n",
        "**[SmoothGrad](https://arxiv.org/abs/1706.03825)**, for example, computes multiple saliency maps from noisy versions of the input:\n",
        "\n",
        "$$\n",
        "  \\text{SmoothGrad}(x) = \\frac{1}{n}\\sum_{i=1}^n S(x + \\varepsilon_i), \\;\\; \\varepsilon_i \\sim \\mathcal{N}(0, \\sigma^2I)\n",
        "$$\n",
        "\n",
        "where $\\varepsilon$ is a vector of the same shape as $x$, whose values are sampled from a normal distribution with zero mean and small variance.\n",
        "\n",
        "🟩 **Completion requirement**: Implement the SmoothGrad procedure for the same point. Has the explanation improved? Bonus points if you can avoid running a for-loop, and by calling the gradient operation a single time.\n"
      ],
      "metadata": {
        "id": "XXUhR5ZH9PKQ"
      }
    },
    {
      "cell_type": "code",
      "source": [
        "# TODO: Take an element from your test set and compute SmoothGrad. Check the results and compare with respect to the previous exercise."
      ],
      "metadata": {
        "id": "rJZBZUFA6POv"
      },
      "execution_count": null,
      "outputs": []
    },
    {
      "cell_type": "markdown",
      "source": [
        "### Exercise 4: Global explanations (2 points)\n",
        "\n",
        "The previous exercises are examples of **local** explanations, where we try to interpret a single prediction of the network. Sometimes we are interested in **global** explanations, that try to find common patterns of behaviour. Suppose we have a dataset $\\mathcal{T} = \\left\\{x_i\\right\\}$ of examples, we can compute some approximate global measure of influence by averaging their saliency:\n",
        "\n",
        "$$\n",
        "\\text{GlobalSaliency} = \\frac{1}{n} \\sum_i S(x_i)\n",
        "$$\n",
        "\n",
        "To make this exercise more interesting, we will split it into 3 parts.\n",
        "\n",
        "**Exercise 4.1**: write a function to compute in parallel the saliency for multiple examples. Note that the resulting matrix $S$ will have shape $(n, d)$, where $n$ is the number of examples and $d$ the size of the input, which is the Jacobian of the network. Try to write the function by avoiding for-loops and multiple tapes, using the [proper tools from TensorFlow](https://www.tensorflow.org/guide/advanced_autodiff)."
      ],
      "metadata": {
        "id": "pIFUonMOY-Mh"
      }
    },
    {
      "cell_type": "code",
      "source": [
        "# TODO: Write the required function, possibly avoding for-loops."
      ],
      "metadata": {
        "id": "nJdQ6nbp-rIM"
      },
      "execution_count": null,
      "outputs": []
    },
    {
      "cell_type": "markdown",
      "source": [
        "**Exercise 4.2**: write a function to compute the global saliency and try to explain the results."
      ],
      "metadata": {
        "id": "As4lalRBcMHw"
      }
    },
    {
      "cell_type": "code",
      "source": [
        "# TODO: Write the required function."
      ],
      "metadata": {
        "id": "O08JfYJQcS1u"
      },
      "execution_count": null,
      "outputs": []
    },
    {
      "cell_type": "markdown",
      "source": [
        "**Exercise 4.3**: note that a linear model $f(x) = w^\\top x + b$ is an example of an *intrinsically* interpretable  model, since the weights $w$ can be checked to analyze the global saliency of each feature (see [3])."
      ],
      "metadata": {
        "id": "D2j6pi3XcX86"
      }
    },
    {
      "cell_type": "code",
      "source": [
        "# TODO: Compare the results you obtained before with a simpler linear model."
      ],
      "metadata": {
        "id": "vjnDxBNicom1"
      },
      "execution_count": null,
      "outputs": []
    },
    {
      "cell_type": "markdown",
      "source": [
        "### Optional exercises and parting words\n",
        "\n",
        "> ⚠ Explainability is a complex topic, with multiple issues arising from the over-abundance of techniques, their instability, etc. While an interesting research topic to pursue, never use blindly these techniques in high-stake applications!\n",
        "\n",
        "These exercises were just a brief and short introduction to the topic of explainability. Below you can find some additional exercises to tackle if you are interested. Remember that these are not part of your grade, but I am happy to provide feedback if they are of interest to you.\n",
        "\n",
        "1. There are dozens of possible variations on feature attribution methods, which may or may not provide better results (see [4] for a benchmarking and this nice [Distill blog post](https://distill.pub/2020/attribution-baselines/)). **[Integrated Gradients](https://arxiv.org/abs/1703.01365)** are an interesting example, where the saliency is integrated over a path ranging from an empty input to the true input. Try implementing integrated gradients.\n",
        "2. **Data attribution** methods are a different class of explanation methods, which try to predict what points in the dataset where most influential to a given prediction (e.g., a picture of a cat will be especially influential on similar pictures). One example of such methods is TracIn [5], which stores checkpoints of the model during training and evaluates the correlation of the gradients. Try to implement TracIn or any other metric of data influence.\n",
        "3. A recent line of research tries to use large language models (e.g., ChatGPT) to explain other models (e.g., see [Language models can explain neurons in language models](https://openai.com/research/language-models-can-explain-neurons-in-language-models)). If you have access to an LLM, you can try it! Take a specific neuron in the model, and collect the activation for multiple examples. Provide these activations to the LLM, and prompt it to provide a human-understandable explanation. What is the result?"
      ],
      "metadata": {
        "id": "Pp2K2VXGdAtd"
      }
    },
    {
      "cell_type": "markdown",
      "source": [
        "### Final checklist\n",
        "\n",
        "1. Carefully check all code. Insert comments when needed. Search for \"TODO\" to see if you forgot something.\n",
        "2. Run everything one final time. *Please do not send me notebooks with errors or cells that are not working.*\n",
        "3. Upload the completed notebook **before 10/11/2023 23:59** on the Google Classrom page."
      ],
      "metadata": {
        "id": "GIyU8c7lh4Ly"
      }
    },
    {
      "cell_type": "markdown",
      "source": [
        "### Bibliography\n",
        "\n",
        "[1] Simonyan, K., Vedaldi, A. and Zisserman, A., 2013. [Deep inside convolutional networks: Visualising image classification models and saliency maps](https://arxiv.org/abs/1312.6034). arXiv preprint arXiv:1312.6034.\n",
        "\n",
        "[2] Smilkov, D., Thorat, N., Kim, B., Viégas, F. and Wattenberg, M., 2017. [SmoothGrad: removing noise by adding noise](https://arxiv.org/abs/1706.03825). arXiv preprint arXiv:1706.03825.\n",
        "\n",
        "[3] Rudin, C., 2019. [Stop explaining black box machine learning models for high stakes decisions and use interpretable models instead](https://www.nature.com/articles/s42256-019-0048-x). Nature Machine Intelligence, 1(5), pp. 206-215.\n",
        "\n",
        "[4] Nguyen, G., Kim, D. and Nguyen, A., 2021. [The effectiveness of feature attribution methods and its correlation with automatic evaluation scores](https://proceedings.neurips.cc/paper/2021/hash/de043a5e421240eb846da8effe472ff1-Abstract.html). Advances in Neural Information Processing Systems, 34, pp.26422-26436.\n",
        "\n",
        "[5] Pruthi, G., Liu, F., Kale, S. and Sundararajan, M., 2020. [Estimating training data influence by tracing gradient descent](https://proceedings.neurips.cc/paper/2020/hash/e6385d39ec9394f2f3a354d9d2b88eec-Abstract.html). Advances in Neural Information Processing Systems, 33, pp. 19920-19930."
      ],
      "metadata": {
        "id": "YCfzjQOIe6CQ"
      }
    }
  ]
}