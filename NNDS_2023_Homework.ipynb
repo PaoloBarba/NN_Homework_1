{
  "nbformat": 4,
  "nbformat_minor": 0,
  "metadata": {
    "colab": {
      "provenance": [],
      "include_colab_link": true
    },
    "kernelspec": {
      "name": "python3",
      "display_name": "Python 3"
    },
    "language_info": {
      "name": "python"
    },
    "accelerator": "GPU"
  },
  "cells": [
    {
      "cell_type": "markdown",
      "metadata": {
        "id": "view-in-github",
        "colab_type": "text"
      },
      "source": [
        "<a href=\"https://colab.research.google.com/github/PaoloBarba/NN_Homework_1/blob/main/NNDS_2023_Homework.ipynb\" target=\"_parent\"><img src=\"https://colab.research.google.com/assets/colab-badge.svg\" alt=\"Open In Colab\"/></a>"
      ]
    },
    {
      "cell_type": "markdown",
      "source": [
        "# Neural Networks for Data Science Applications\n",
        "## Homework 1: Saliency maps for interpretability\n",
        "\n",
        "**Name**: *Paolo*\n",
        "\n",
        "**Matricola**: *1885324*\n",
        "\n",
        "> ✍ Upload the completed notebook **before 10/11/2023 at 23:59** on the Google Classroom page."
      ],
      "metadata": {
        "id": "BwfXT98e5hQc"
      }
    },
    {
      "cell_type": "code",
      "execution_count": 1,
      "metadata": {
        "id": "5V6Ph3UT44Xo"
      },
      "outputs": [],
      "source": [
        "import tensorflow as tf\n",
        "import matplotlib.pyplot as plt"
      ]
    },
    {
      "cell_type": "code",
      "source": [
        "# To ensure reproducible results (as much as possible)\n",
        "tf.keras.utils.set_random_seed(1234)"
      ],
      "metadata": {
        "id": "GkYGd_WY_2nq"
      },
      "execution_count": 2,
      "outputs": []
    },
    {
      "cell_type": "markdown",
      "source": [
        "### Overview\n",
        "\n",
        "Neural networks are powerful tools, but they are **black-boxes**, meaning that it is difficult to provide human-understandable explanations on what they are doing. The field of **explanaibility** is concerned with finding algorithms for achieving this. In this homework, you will be guided in implementing some basic explanaibility algorithms (**saliency maps**), which is an instructive way of playing with the TensorFlow autodiff framework.\n",
        "\n",
        "### Instructions\n",
        "\n",
        "1. The homework is divided into four mandatory exercises (**5 points in total**), and a few optional exercises. Optional exercises are provided if you like the topic and would like to explore more; you are free to ignore them or complete as many as you want. I will not grade them but I might provide feedback for especially nice solutions.\n",
        "2. Completing the homework successfully will remove 1 exercise from the end-of-term homework.\n",
        "3. If your grade does not satisfy you, you are also free to complete the full EoT homework to recover it.\n",
        "3. The grade can be kept for the entire academic year (up to October 2024).\n",
        "\n",
        "**IMPORTANT - read carefully before starting**:\n",
        "\n",
        "> 🟨 *External material*: if you use any external material or inspiration for the code, reference it *explicitly* in the corresponding cell. For the textual descriptions, copy-paste *is not allowed*. <ins>Not following these two points is an immediate 0 mark</ins>.\n",
        "\n",
        "> 🔵 *Grammar*: for the textual descriptions, I will remove points for too many grammatical or textual errors. Please try to be precise and provide nice-to-read descriptions, like if you were writing a report.\n",
        "\n",
        "> 🟥 *Vectorization and TensorFlow*: the homework must be done _fully in TensorFlow_ and vectorizing the code as much as possible (e.g., do not loop explicitly over the batch dimension).\n",
        "\n",
        "> 🟪 *Math*: you can also use LaTeX in Markdown if you need to write equations or if you need generic math notation."
      ],
      "metadata": {
        "id": "BmzKI83R0uYa"
      }
    },
    {
      "cell_type": "markdown",
      "source": [
        "## Warmup: Data loading\n",
        "\n",
        "For this homework, you can select any **tabular dataset** that you like, for either classification or regression. A few repositories that you can look at:\n",
        "\n",
        "1. The catalog of [TensorFlow Datasets](https://www.tensorflow.org/datasets/).\n",
        "2. The [Kaggle catalog](https://www.kaggle.com/data). For downloading data from Kaggle on Google Colab, you will need to [load your Kaggle authentication token](https://colab.research.google.com/github/corrieann/kaggle/blob/master/kaggle_api_in_colab.ipynb).\n",
        "3. The [UCI Machine Learning Repository](https://archive.ics.uci.edu/ml/datasets.php).\n",
        "4. The [🤗 HuggingFace Datasets](https://huggingface.co/docs/datasets/) repository.\n",
        "\n",
        "You are not bound to these; any open repository is okay. The choice of dataset will not influence the mark."
      ],
      "metadata": {
        "id": "SE7pCfZK2G5M"
      }
    },
    {
      "cell_type": "markdown",
      "source": [
        "✍ **DESCRIPTION OF THE CODE**\n",
        "\n",
        "*Provide a small description of the dataset below (e.g., source, task, bibliographic reference if necessary...), both as text and in the comments of the code.*\n",
        "\n",
        "**TODO**: add description here (1-2 paragraphs)."
      ],
      "metadata": {
        "id": "fzThDtr4VJ5x"
      }
    },
    {
      "cell_type": "code",
      "source": [
        "# TODO: Insert any data loading code here. If the data loading part is complex,\n",
        "# consider using a separate .py file that you can attach to the submission.\n",
        "import pandas as pd\n",
        "import numpy as np\n",
        "from sklearn.model_selection import train_test_split\n",
        "from sklearn.preprocessing import StandardScaler\n",
        "\n",
        "\n",
        "data = pd.read_csv('shots.csv')\n",
        "data.drop(['Unnamed: 0'] , axis = 1 , inplace = True)\n",
        "X , y = data.drop(['outcome' , 'player'] , axis = 1) , data['outcome']\n"
      ],
      "metadata": {
        "id": "FpQj4F8n20LI"
      },
      "execution_count": 63,
      "outputs": []
    },
    {
      "cell_type": "code",
      "source": [
        "df_encoded = pd.get_dummies(X, columns=[ 'bodypart'  ,'technique',\n",
        "                                           'first_touch' , 'state_of_play',\n",
        "                                           'inside_18_width' , 'inside_18_depth' ,\n",
        "                                           'inside_18' , 'bodypart_angle' , 'significant_time'])\n"
      ],
      "metadata": {
        "id": "o5NgM8BNjA1-"
      },
      "execution_count": 64,
      "outputs": []
    },
    {
      "cell_type": "code",
      "source": [
        "scaler = StandardScaler()\n",
        "data[['location_x', 'location_y' , 'shot_distance' , 'shot_angle' ]] = scaler.fit_transform(data[['location_x', 'location_y' , 'shot_distance' , 'shot_angle' ]])\n"
      ],
      "metadata": {
        "id": "IHu54lGcloc3"
      },
      "execution_count": 65,
      "outputs": []
    },
    {
      "cell_type": "code",
      "source": [
        "X_categorical = df_encoded.values\n",
        "X_numerical = data[['location_x', 'location_y' , 'shot_distance' , 'shot_angle' ]].values\n",
        "X_combined = np.hstack((X_categorical, X_numerical))\n"
      ],
      "metadata": {
        "id": "N0KZWrsem0OI"
      },
      "execution_count": 79,
      "outputs": []
    },
    {
      "cell_type": "code",
      "source": [
        "y = pd.get_dummies(y, columns=['outcome'])"
      ],
      "metadata": {
        "id": "XCRLdI6GoAIZ"
      },
      "execution_count": null,
      "outputs": []
    },
    {
      "cell_type": "markdown",
      "source": [
        "### Exercise 1: Train a neural network model (1 point)\n",
        "\n",
        "Define, train, and test a neural network for the provided dataset.\n",
        "\n",
        "☝ You are free to make any modelling choice (e.g., activation function, normalization layers, etc.), provided the result makes sense.\n",
        "\n",
        "✅ **Completion requirement**: print on screen the test accuracy of the network. Additional comments and visualizations are also appreciated."
      ],
      "metadata": {
        "id": "5Myy-Aq33upU"
      }
    },
    {
      "cell_type": "code",
      "source": [
        "y.shape"
      ],
      "metadata": {
        "id": "UxDywZ3E7oNj",
        "outputId": "b14651e9-0163-4e77-9f5a-8385a8c6d671",
        "colab": {
          "base_uri": "https://localhost:8080/"
        }
      },
      "execution_count": 84,
      "outputs": [
        {
          "output_type": "execute_result",
          "data": {
            "text/plain": [
              "(12843, 8)"
            ]
          },
          "metadata": {},
          "execution_count": 84
        }
      ]
    },
    {
      "cell_type": "code",
      "source": [
        "X_train_tf = tf.convert_to_tensor(X_combined, dtype=tf.float32)\n",
        "y_train_tf = tf.convert_to_tensor(y, dtype=tf.int64)"
      ],
      "metadata": {
        "id": "oP0KPyBY57fy"
      },
      "execution_count": 71,
      "outputs": []
    },
    {
      "cell_type": "code",
      "source": [
        "X_combined.shape"
      ],
      "metadata": {
        "id": "H4GEZFFY82W3",
        "outputId": "98f3eef4-9ddd-4f9d-9ada-db3af918c908",
        "colab": {
          "base_uri": "https://localhost:8080/"
        }
      },
      "execution_count": 85,
      "outputs": [
        {
          "output_type": "execute_result",
          "data": {
            "text/plain": [
              "(12843, 39)"
            ]
          },
          "metadata": {},
          "execution_count": 85
        }
      ]
    },
    {
      "cell_type": "code",
      "source": [
        "import tensorflow as tf\n",
        "from tensorflow.keras.models import Sequential\n",
        "from tensorflow.keras.layers import Dense\n",
        "\n",
        "# Define the neural network model\n",
        "model = Sequential()\n",
        "\n",
        "# Add layers to the model\n",
        "model.add(Dense(64, input_shape=(39,), activation='relu'))  # Input layer with 64 units and ReLU activation\n",
        "model.add(Dense(32, activation='relu'))  # Hidden layer with 32 units and ReLU activation\n",
        "model.add(Dense(8, activation='softmax'))  # Output layer with 8 units (since y has shape (12843, 8)) and softmax activation\n",
        "\n",
        "# Compile the model\n",
        "model.compile(optimizer='adam', loss='categorical_crossentropy', metrics=['accuracy'])\n",
        "\n",
        "# Train the model\n",
        "model.fit(X_combined, y, epochs=30, batch_size=32, validation_split=0.2)\n"
      ],
      "metadata": {
        "id": "_gTJIyBm5WHB",
        "outputId": "dbf199d7-dba1-4bcb-be68-dc09fef7485e",
        "colab": {
          "base_uri": "https://localhost:8080/"
        }
      },
      "execution_count": 87,
      "outputs": [
        {
          "output_type": "stream",
          "name": "stdout",
          "text": [
            "Epoch 1/30\n",
            "322/322 [==============================] - 2s 5ms/step - loss: 2.4199 - accuracy: 0.2934 - val_loss: 1.5598 - val_accuracy: 0.2935\n",
            "Epoch 2/30\n",
            "322/322 [==============================] - 1s 4ms/step - loss: 1.5257 - accuracy: 0.3319 - val_loss: 1.5569 - val_accuracy: 0.3091\n",
            "Epoch 3/30\n",
            "322/322 [==============================] - 1s 4ms/step - loss: 1.5125 - accuracy: 0.3360 - val_loss: 1.5462 - val_accuracy: 0.3188\n",
            "Epoch 4/30\n",
            "322/322 [==============================] - 1s 5ms/step - loss: 1.5035 - accuracy: 0.3481 - val_loss: 1.5441 - val_accuracy: 0.3468\n",
            "Epoch 5/30\n",
            "322/322 [==============================] - 2s 6ms/step - loss: 1.4887 - accuracy: 0.3465 - val_loss: 1.4994 - val_accuracy: 0.3410\n",
            "Epoch 6/30\n",
            "322/322 [==============================] - 1s 4ms/step - loss: 1.4800 - accuracy: 0.3557 - val_loss: 1.4859 - val_accuracy: 0.3566\n",
            "Epoch 7/30\n",
            "322/322 [==============================] - 1s 4ms/step - loss: 1.4754 - accuracy: 0.3552 - val_loss: 1.5023 - val_accuracy: 0.3542\n",
            "Epoch 8/30\n",
            "322/322 [==============================] - 1s 4ms/step - loss: 1.4706 - accuracy: 0.3640 - val_loss: 1.5052 - val_accuracy: 0.3484\n",
            "Epoch 9/30\n",
            "322/322 [==============================] - 1s 4ms/step - loss: 1.4738 - accuracy: 0.3515 - val_loss: 1.5101 - val_accuracy: 0.3453\n",
            "Epoch 10/30\n",
            "322/322 [==============================] - 1s 4ms/step - loss: 1.4703 - accuracy: 0.3527 - val_loss: 1.4964 - val_accuracy: 0.3375\n",
            "Epoch 11/30\n",
            "322/322 [==============================] - 1s 4ms/step - loss: 1.4647 - accuracy: 0.3626 - val_loss: 1.4892 - val_accuracy: 0.3441\n",
            "Epoch 12/30\n",
            "322/322 [==============================] - 1s 4ms/step - loss: 1.4587 - accuracy: 0.3689 - val_loss: 1.4757 - val_accuracy: 0.3616\n",
            "Epoch 13/30\n",
            "322/322 [==============================] - 2s 5ms/step - loss: 1.4600 - accuracy: 0.3660 - val_loss: 1.4689 - val_accuracy: 0.3717\n",
            "Epoch 14/30\n",
            "322/322 [==============================] - 2s 5ms/step - loss: 1.4532 - accuracy: 0.3663 - val_loss: 1.4842 - val_accuracy: 0.3612\n",
            "Epoch 15/30\n",
            "322/322 [==============================] - 1s 5ms/step - loss: 1.4623 - accuracy: 0.3655 - val_loss: 1.4761 - val_accuracy: 0.3702\n",
            "Epoch 16/30\n",
            "322/322 [==============================] - 2s 5ms/step - loss: 1.4510 - accuracy: 0.3700 - val_loss: 1.4908 - val_accuracy: 0.3562\n",
            "Epoch 17/30\n",
            "322/322 [==============================] - 2s 5ms/step - loss: 1.4483 - accuracy: 0.3715 - val_loss: 1.4659 - val_accuracy: 0.3710\n",
            "Epoch 18/30\n",
            "322/322 [==============================] - 1s 4ms/step - loss: 1.4500 - accuracy: 0.3643 - val_loss: 1.4692 - val_accuracy: 0.3714\n",
            "Epoch 19/30\n",
            "322/322 [==============================] - 1s 4ms/step - loss: 1.4496 - accuracy: 0.3734 - val_loss: 1.4730 - val_accuracy: 0.3647\n",
            "Epoch 20/30\n",
            "322/322 [==============================] - 1s 4ms/step - loss: 1.4489 - accuracy: 0.3779 - val_loss: 1.5036 - val_accuracy: 0.3686\n",
            "Epoch 21/30\n",
            "322/322 [==============================] - 1s 5ms/step - loss: 1.4473 - accuracy: 0.3778 - val_loss: 1.4721 - val_accuracy: 0.3647\n",
            "Epoch 22/30\n",
            "322/322 [==============================] - 2s 6ms/step - loss: 1.4451 - accuracy: 0.3715 - val_loss: 1.4752 - val_accuracy: 0.3640\n",
            "Epoch 23/30\n",
            "322/322 [==============================] - 1s 4ms/step - loss: 1.4476 - accuracy: 0.3728 - val_loss: 1.4696 - val_accuracy: 0.3690\n",
            "Epoch 24/30\n",
            "322/322 [==============================] - 1s 4ms/step - loss: 1.4465 - accuracy: 0.3792 - val_loss: 1.4638 - val_accuracy: 0.3756\n",
            "Epoch 25/30\n",
            "322/322 [==============================] - 1s 5ms/step - loss: 1.4443 - accuracy: 0.3744 - val_loss: 1.4935 - val_accuracy: 0.3445\n",
            "Epoch 26/30\n",
            "322/322 [==============================] - 1s 4ms/step - loss: 1.4433 - accuracy: 0.3756 - val_loss: 1.4584 - val_accuracy: 0.3717\n",
            "Epoch 27/30\n",
            "322/322 [==============================] - 1s 4ms/step - loss: 1.4426 - accuracy: 0.3771 - val_loss: 1.4689 - val_accuracy: 0.3663\n",
            "Epoch 28/30\n",
            "322/322 [==============================] - 1s 4ms/step - loss: 1.4485 - accuracy: 0.3719 - val_loss: 1.4703 - val_accuracy: 0.3698\n",
            "Epoch 29/30\n",
            "322/322 [==============================] - 1s 4ms/step - loss: 1.4396 - accuracy: 0.3785 - val_loss: 1.4737 - val_accuracy: 0.3768\n",
            "Epoch 30/30\n",
            "322/322 [==============================] - 2s 6ms/step - loss: 1.4414 - accuracy: 0.3780 - val_loss: 1.4776 - val_accuracy: 0.3507\n"
          ]
        },
        {
          "output_type": "execute_result",
          "data": {
            "text/plain": [
              "<keras.src.callbacks.History at 0x7894ca77f550>"
            ]
          },
          "metadata": {},
          "execution_count": 87
        }
      ]
    },
    {
      "cell_type": "code",
      "source": [
        "model = tf.keras.models.Sequential()\n",
        "\n",
        "# Add a hidden layer with 16 units and 'relu' activation function\n",
        "model.add(tf.keras.layers.Dense(16, input_dim= ))\n",
        "model.add(tf.keras.layers.Activation('relu'))\n",
        "\n",
        "# Add an output layer with 8 units for 8-class classification and 'softmax' activation function\n",
        "model.add(tf.keras.layers.Dense(8))\n",
        "model.add(tf.keras.layers.Activation('softmax'))\n",
        "\n",
        "# Compile the model\n",
        "model.compile(loss='sparse_categorical_crossentropy', optimizer='adam', metrics=['accuracy'])\n",
        "\n",
        "# Train the model\n",
        "model.fit(X_combined, y, epochs=10, batch_size=32)"
      ],
      "metadata": {
        "id": "3fL6S45u0yH5",
        "outputId": "63426b25-ee22-48d4-c045-ea264d2ca4f5",
        "colab": {
          "base_uri": "https://localhost:8080/",
          "height": 1000
        }
      },
      "execution_count": 29,
      "outputs": [
        {
          "output_type": "stream",
          "name": "stdout",
          "text": [
            "Epoch 1/10\n"
          ]
        },
        {
          "output_type": "error",
          "ename": "UnimplementedError",
          "evalue": "ignored",
          "traceback": [
            "\u001b[0;31m---------------------------------------------------------------------------\u001b[0m",
            "\u001b[0;31mUnimplementedError\u001b[0m                        Traceback (most recent call last)",
            "\u001b[0;32m<ipython-input-29-deb30383eabf>\u001b[0m in \u001b[0;36m<cell line: 15>\u001b[0;34m()\u001b[0m\n\u001b[1;32m     13\u001b[0m \u001b[0;34m\u001b[0m\u001b[0m\n\u001b[1;32m     14\u001b[0m \u001b[0;31m# Train the model\u001b[0m\u001b[0;34m\u001b[0m\u001b[0;34m\u001b[0m\u001b[0m\n\u001b[0;32m---> 15\u001b[0;31m \u001b[0mmodel\u001b[0m\u001b[0;34m.\u001b[0m\u001b[0mfit\u001b[0m\u001b[0;34m(\u001b[0m\u001b[0mX_combined\u001b[0m\u001b[0;34m,\u001b[0m \u001b[0my\u001b[0m\u001b[0;34m,\u001b[0m \u001b[0mepochs\u001b[0m\u001b[0;34m=\u001b[0m\u001b[0;36m10\u001b[0m\u001b[0;34m,\u001b[0m \u001b[0mbatch_size\u001b[0m\u001b[0;34m=\u001b[0m\u001b[0;36m32\u001b[0m\u001b[0;34m)\u001b[0m\u001b[0;34m\u001b[0m\u001b[0;34m\u001b[0m\u001b[0m\n\u001b[0m",
            "\u001b[0;32m/usr/local/lib/python3.10/dist-packages/keras/src/utils/traceback_utils.py\u001b[0m in \u001b[0;36merror_handler\u001b[0;34m(*args, **kwargs)\u001b[0m\n\u001b[1;32m     68\u001b[0m             \u001b[0;31m# To get the full stack trace, call:\u001b[0m\u001b[0;34m\u001b[0m\u001b[0;34m\u001b[0m\u001b[0m\n\u001b[1;32m     69\u001b[0m             \u001b[0;31m# `tf.debugging.disable_traceback_filtering()`\u001b[0m\u001b[0;34m\u001b[0m\u001b[0;34m\u001b[0m\u001b[0m\n\u001b[0;32m---> 70\u001b[0;31m             \u001b[0;32mraise\u001b[0m \u001b[0me\u001b[0m\u001b[0;34m.\u001b[0m\u001b[0mwith_traceback\u001b[0m\u001b[0;34m(\u001b[0m\u001b[0mfiltered_tb\u001b[0m\u001b[0;34m)\u001b[0m \u001b[0;32mfrom\u001b[0m \u001b[0;32mNone\u001b[0m\u001b[0;34m\u001b[0m\u001b[0;34m\u001b[0m\u001b[0m\n\u001b[0m\u001b[1;32m     71\u001b[0m         \u001b[0;32mfinally\u001b[0m\u001b[0;34m:\u001b[0m\u001b[0;34m\u001b[0m\u001b[0;34m\u001b[0m\u001b[0m\n\u001b[1;32m     72\u001b[0m             \u001b[0;32mdel\u001b[0m \u001b[0mfiltered_tb\u001b[0m\u001b[0;34m\u001b[0m\u001b[0;34m\u001b[0m\u001b[0m\n",
            "\u001b[0;32m/usr/local/lib/python3.10/dist-packages/tensorflow/python/eager/execute.py\u001b[0m in \u001b[0;36mquick_execute\u001b[0;34m(op_name, num_outputs, inputs, attrs, ctx, name)\u001b[0m\n\u001b[1;32m     58\u001b[0m         \u001b[0;32mfor\u001b[0m \u001b[0mt\u001b[0m \u001b[0;32min\u001b[0m \u001b[0minputs\u001b[0m\u001b[0;34m\u001b[0m\u001b[0;34m\u001b[0m\u001b[0m\n\u001b[1;32m     59\u001b[0m     ]\n\u001b[0;32m---> 60\u001b[0;31m     tensors = pywrap_tfe.TFE_Py_Execute(ctx._handle, device_name, op_name,\n\u001b[0m\u001b[1;32m     61\u001b[0m                                         inputs, attrs, num_outputs)\n\u001b[1;32m     62\u001b[0m   \u001b[0;32mexcept\u001b[0m \u001b[0mcore\u001b[0m\u001b[0;34m.\u001b[0m\u001b[0m_NotOkStatusException\u001b[0m \u001b[0;32mas\u001b[0m \u001b[0me\u001b[0m\u001b[0;34m:\u001b[0m\u001b[0;34m\u001b[0m\u001b[0;34m\u001b[0m\u001b[0m\n",
            "\u001b[0;31mUnimplementedError\u001b[0m: Graph execution error:\n\nDetected at node sparse_categorical_crossentropy/Cast defined at (most recent call last):\n  File \"/usr/lib/python3.10/runpy.py\", line 196, in _run_module_as_main\n\n  File \"/usr/lib/python3.10/runpy.py\", line 86, in _run_code\n\n  File \"/usr/local/lib/python3.10/dist-packages/colab_kernel_launcher.py\", line 37, in <module>\n\n  File \"/usr/local/lib/python3.10/dist-packages/traitlets/config/application.py\", line 992, in launch_instance\n\n  File \"/usr/local/lib/python3.10/dist-packages/ipykernel/kernelapp.py\", line 619, in start\n\n  File \"/usr/local/lib/python3.10/dist-packages/tornado/platform/asyncio.py\", line 195, in start\n\n  File \"/usr/lib/python3.10/asyncio/base_events.py\", line 603, in run_forever\n\n  File \"/usr/lib/python3.10/asyncio/base_events.py\", line 1909, in _run_once\n\n  File \"/usr/lib/python3.10/asyncio/events.py\", line 80, in _run\n\n  File \"/usr/local/lib/python3.10/dist-packages/tornado/ioloop.py\", line 685, in <lambda>\n\n  File \"/usr/local/lib/python3.10/dist-packages/tornado/ioloop.py\", line 738, in _run_callback\n\n  File \"/usr/local/lib/python3.10/dist-packages/tornado/gen.py\", line 825, in inner\n\n  File \"/usr/local/lib/python3.10/dist-packages/tornado/gen.py\", line 786, in run\n\n  File \"/usr/local/lib/python3.10/dist-packages/ipykernel/kernelbase.py\", line 361, in process_one\n\n  File \"/usr/local/lib/python3.10/dist-packages/tornado/gen.py\", line 234, in wrapper\n\n  File \"/usr/local/lib/python3.10/dist-packages/ipykernel/kernelbase.py\", line 261, in dispatch_shell\n\n  File \"/usr/local/lib/python3.10/dist-packages/tornado/gen.py\", line 234, in wrapper\n\n  File \"/usr/local/lib/python3.10/dist-packages/ipykernel/kernelbase.py\", line 539, in execute_request\n\n  File \"/usr/local/lib/python3.10/dist-packages/tornado/gen.py\", line 234, in wrapper\n\n  File \"/usr/local/lib/python3.10/dist-packages/ipykernel/ipkernel.py\", line 302, in do_execute\n\n  File \"/usr/local/lib/python3.10/dist-packages/ipykernel/zmqshell.py\", line 539, in run_cell\n\n  File \"/usr/local/lib/python3.10/dist-packages/IPython/core/interactiveshell.py\", line 2975, in run_cell\n\n  File \"/usr/local/lib/python3.10/dist-packages/IPython/core/interactiveshell.py\", line 3030, in _run_cell\n\n  File \"/usr/local/lib/python3.10/dist-packages/IPython/core/async_helpers.py\", line 78, in _pseudo_sync_runner\n\n  File \"/usr/local/lib/python3.10/dist-packages/IPython/core/interactiveshell.py\", line 3257, in run_cell_async\n\n  File \"/usr/local/lib/python3.10/dist-packages/IPython/core/interactiveshell.py\", line 3473, in run_ast_nodes\n\n  File \"/usr/local/lib/python3.10/dist-packages/IPython/core/interactiveshell.py\", line 3553, in run_code\n\n  File \"<ipython-input-29-deb30383eabf>\", line 15, in <cell line: 15>\n\n  File \"/usr/local/lib/python3.10/dist-packages/keras/src/utils/traceback_utils.py\", line 65, in error_handler\n\n  File \"/usr/local/lib/python3.10/dist-packages/keras/src/engine/training.py\", line 1783, in fit\n\n  File \"/usr/local/lib/python3.10/dist-packages/keras/src/engine/training.py\", line 1377, in train_function\n\n  File \"/usr/local/lib/python3.10/dist-packages/keras/src/engine/training.py\", line 1360, in step_function\n\n  File \"/usr/local/lib/python3.10/dist-packages/keras/src/engine/training.py\", line 1349, in run_step\n\n  File \"/usr/local/lib/python3.10/dist-packages/keras/src/engine/training.py\", line 1127, in train_step\n\n  File \"/usr/local/lib/python3.10/dist-packages/keras/src/engine/training.py\", line 1185, in compute_loss\n\n  File \"/usr/local/lib/python3.10/dist-packages/keras/src/engine/compile_utils.py\", line 277, in __call__\n\n  File \"/usr/local/lib/python3.10/dist-packages/keras/src/losses.py\", line 143, in __call__\n\n  File \"/usr/local/lib/python3.10/dist-packages/keras/src/losses.py\", line 270, in call\n\n  File \"/usr/local/lib/python3.10/dist-packages/keras/src/losses.py\", line 2454, in sparse_categorical_crossentropy\n\n  File \"/usr/local/lib/python3.10/dist-packages/keras/src/backend.py\", line 5727, in sparse_categorical_crossentropy\n\n  File \"/usr/local/lib/python3.10/dist-packages/keras/src/backend.py\", line 2305, in cast\n\n2 root error(s) found.\n  (0) UNIMPLEMENTED:  Cast string to int64 is not supported\n\t [[{{node sparse_categorical_crossentropy/Cast}}]]\n  (1) CANCELLED:  Function was cancelled before it was started\n0 successful operations.\n0 derived errors ignored. [Op:__inference_train_function_20114]"
          ]
        }
      ]
    },
    {
      "cell_type": "code",
      "source": [],
      "metadata": {
        "id": "ISQ7CfvNirvs"
      },
      "execution_count": null,
      "outputs": []
    },
    {
      "cell_type": "code",
      "source": [],
      "metadata": {
        "id": "godyFivmXNNf"
      },
      "execution_count": null,
      "outputs": []
    },
    {
      "cell_type": "code",
      "source": [
        "# TODO: train the neural network.\n"
      ],
      "metadata": {
        "id": "PgB37IKKWuhj",
        "outputId": "d4447404-3db0-4c5d-f864-989368a265dc",
        "colab": {
          "base_uri": "https://localhost:8080/",
          "height": 691
        }
      },
      "execution_count": null,
      "outputs": [
        {
          "output_type": "error",
          "ename": "TypeError",
          "evalue": "ignored",
          "traceback": [
            "\u001b[0;31m---------------------------------------------------------------------------\u001b[0m",
            "\u001b[0;31mTypeError\u001b[0m                                 Traceback (most recent call last)",
            "\u001b[0;32m<ipython-input-39-635f7cf1ddce>\u001b[0m in \u001b[0;36m<cell line: 2>\u001b[0;34m()\u001b[0m\n\u001b[1;32m      1\u001b[0m \u001b[0;31m# TODO: train the neural network.\u001b[0m\u001b[0;34m\u001b[0m\u001b[0;34m\u001b[0m\u001b[0m\n\u001b[0;32m----> 2\u001b[0;31m \u001b[0mmodel\u001b[0m\u001b[0;34m(\u001b[0m\u001b[0mtrain_ds\u001b[0m\u001b[0;34m)\u001b[0m\u001b[0;34m.\u001b[0m\u001b[0mshape\u001b[0m\u001b[0;34m\u001b[0m\u001b[0;34m\u001b[0m\u001b[0m\n\u001b[0m",
            "\u001b[0;32m/usr/local/lib/python3.10/dist-packages/keras/src/utils/traceback_utils.py\u001b[0m in \u001b[0;36merror_handler\u001b[0;34m(*args, **kwargs)\u001b[0m\n\u001b[1;32m     68\u001b[0m             \u001b[0;31m# To get the full stack trace, call:\u001b[0m\u001b[0;34m\u001b[0m\u001b[0;34m\u001b[0m\u001b[0m\n\u001b[1;32m     69\u001b[0m             \u001b[0;31m# `tf.debugging.disable_traceback_filtering()`\u001b[0m\u001b[0;34m\u001b[0m\u001b[0;34m\u001b[0m\u001b[0m\n\u001b[0;32m---> 70\u001b[0;31m             \u001b[0;32mraise\u001b[0m \u001b[0me\u001b[0m\u001b[0;34m.\u001b[0m\u001b[0mwith_traceback\u001b[0m\u001b[0;34m(\u001b[0m\u001b[0mfiltered_tb\u001b[0m\u001b[0;34m)\u001b[0m \u001b[0;32mfrom\u001b[0m \u001b[0;32mNone\u001b[0m\u001b[0;34m\u001b[0m\u001b[0;34m\u001b[0m\u001b[0m\n\u001b[0m\u001b[1;32m     71\u001b[0m         \u001b[0;32mfinally\u001b[0m\u001b[0;34m:\u001b[0m\u001b[0;34m\u001b[0m\u001b[0;34m\u001b[0m\u001b[0m\n\u001b[1;32m     72\u001b[0m             \u001b[0;32mdel\u001b[0m \u001b[0mfiltered_tb\u001b[0m\u001b[0;34m\u001b[0m\u001b[0;34m\u001b[0m\u001b[0m\n",
            "\u001b[0;32m/usr/local/lib/python3.10/dist-packages/keras/src/engine/input_spec.py\u001b[0m in \u001b[0;36massert_input_compatibility\u001b[0;34m(input_spec, inputs, layer_name)\u001b[0m\n\u001b[1;32m    211\u001b[0m         \u001b[0;31m# which does not have a `shape` attribute.\u001b[0m\u001b[0;34m\u001b[0m\u001b[0;34m\u001b[0m\u001b[0m\n\u001b[1;32m    212\u001b[0m         \u001b[0;32mif\u001b[0m \u001b[0;32mnot\u001b[0m \u001b[0mhasattr\u001b[0m\u001b[0;34m(\u001b[0m\u001b[0mx\u001b[0m\u001b[0;34m,\u001b[0m \u001b[0;34m\"shape\"\u001b[0m\u001b[0;34m)\u001b[0m\u001b[0;34m:\u001b[0m\u001b[0;34m\u001b[0m\u001b[0;34m\u001b[0m\u001b[0m\n\u001b[0;32m--> 213\u001b[0;31m             raise TypeError(\n\u001b[0m\u001b[1;32m    214\u001b[0m                 \u001b[0;34mf\"Inputs to a layer should be tensors. Got '{x}' \"\u001b[0m\u001b[0;34m\u001b[0m\u001b[0;34m\u001b[0m\u001b[0m\n\u001b[1;32m    215\u001b[0m                 \u001b[0;34mf\"(of type {type(x)}) as input for layer '{layer_name}'.\"\u001b[0m\u001b[0;34m\u001b[0m\u001b[0;34m\u001b[0m\u001b[0m\n",
            "\u001b[0;31mTypeError\u001b[0m: Exception encountered when calling layer 'sequential' (type Sequential).\n\nInputs to a layer should be tensors. Got '<_BatchDataset element_spec=({'location_x': TensorSpec(shape=(None,), dtype=tf.float64, name=None), 'location_y': TensorSpec(shape=(None,), dtype=tf.float64, name=None), 'player': TensorSpec(shape=(None,), dtype=tf.string, name=None), 'bodypart': TensorSpec(shape=(None,), dtype=tf.string, name=None), 'technique': TensorSpec(shape=(None,), dtype=tf.string, name=None), 'first_touch': TensorSpec(shape=(None,), dtype=tf.bool, name=None), 'state_of_play': TensorSpec(shape=(None,), dtype=tf.string, name=None), 'inside_18_width': TensorSpec(shape=(None,), dtype=tf.bool, name=None), 'inside_18_depth': TensorSpec(shape=(None,), dtype=tf.bool, name=None), 'inside_18': TensorSpec(shape=(None,), dtype=tf.bool, name=None), 'shot_distance': TensorSpec(shape=(None,), dtype=tf.float64, name=None), 'shot_angle': TensorSpec(shape=(None,), dtype=tf.float64, name=None), 'bodypart_angle': TensorSpec(shape=(None,), dtype=tf.string, name=None), 'significant_time': TensorSpec(shape=(None,), dtype=tf.string, name=None)}, TensorSpec(shape=(None,), dtype=tf.string, name=None))>' (of type <class 'tensorflow.python.data.ops.batch_op._BatchDataset'>) as input for layer 'dense'.\n\nCall arguments received by layer 'sequential' (type Sequential):\n  • inputs=<_BatchDataset element_spec=({'location_x': TensorSpec(shape=(None,), dtype=tf.float64, name=None), 'location_y': TensorSpec(shape=(None,), dtype=tf.float64, name=None), 'player': TensorSpec(shape=(None,), dtype=tf.string, name=None), 'bodypart': TensorSpec(shape=(None,), dtype=tf.string, name=None), 'technique': TensorSpec(shape=(None,), dtype=tf.string, name=None), 'first_touch': TensorSpec(shape=(None,), dtype=tf.bool, name=None), 'state_of_play': TensorSpec(shape=(None,), dtype=tf.string, name=None), 'inside_18_width': TensorSpec(shape=(None,), dtype=tf.bool, name=None), 'inside_18_depth': TensorSpec(shape=(None,), dtype=tf.bool, name=None), 'inside_18': TensorSpec(shape=(None,), dtype=tf.bool, name=None), 'shot_distance': TensorSpec(shape=(None,), dtype=tf.float64, name=None), 'shot_angle': TensorSpec(shape=(None,), dtype=tf.float64, name=None), 'bodypart_angle': TensorSpec(shape=(None,), dtype=tf.string, name=None), 'significant_time': TensorSpec(shape=(None,), dtype=tf.string, name=None)}, TensorSpec(shape=(None,), dtype=tf.string, name=None))>\n  • training=None\n  • mask=None"
          ]
        }
      ]
    },
    {
      "cell_type": "code",
      "source": [
        "# TODO: test the neural network and print the result on screen."
      ],
      "metadata": {
        "id": "cJJFyts8Wqez"
      },
      "execution_count": null,
      "outputs": []
    },
    {
      "cell_type": "markdown",
      "source": [
        "### Exercise 2: Computing a vanilla saliency map (1 points)\n",
        "\n",
        "> Before starting, I suggest you read [1] as a warm-up. This is one of the first papers that tried to apply this kind of techniques to modern neural networks.\n",
        "\n",
        "What do we mean by explainability? Consider the neural network $f(\\cdot)$ you just trained, and a prediction $\\hat{y} = f(x)$ we want to analyze. **Feature attribution** methods try to assign a weight $w_i$ to each input feature $x_i$, to understand which parts of the input have contributed the most to the explanation.\n",
        "\n",
        "The simplest feature attribution technique, called **vanilla saliency map**, simply computes the gradient at that point:\n",
        "\n",
        "$$\n",
        "  S(x) = \\left\\lvert \\frac{\\partial f_c(x)}{\\partial x} \\right\\rvert\n",
        "$$\n",
        "\n",
        "where  $c$ is the index corresponding to the predicted class.\n",
        "\n",
        "✅ **Completion requirement**: Take any point from your test dataset, and compute a saliency map using `tf.GradientTape`. Check the weight to see if you can find anything to \"interpret\". **Note**: I am not evaluating how nice / good the explanation is, only the code."
      ],
      "metadata": {
        "id": "0i1Jr0mQ7lRY"
      }
    },
    {
      "cell_type": "code",
      "source": [
        "# TODO: Take an element from your test set and compute the saliency map"
      ],
      "metadata": {
        "id": "WGeQDlEpJ-3b"
      },
      "execution_count": null,
      "outputs": []
    },
    {
      "cell_type": "code",
      "source": [
        "# TODO: Check the saliency map to analyze the result. What can you say about the map?"
      ],
      "metadata": {
        "id": "o4nEAHpD6dlc"
      },
      "execution_count": null,
      "outputs": []
    },
    {
      "cell_type": "markdown",
      "source": [
        "### Exercise 3: Advanced saliency maps (1 point)\n",
        "\n",
        "> For this exercise, you can read [2] for an overview on the limits of vanilla saliency maps and a description of SmoothGrad.\n",
        "\n",
        "Saliency maps have several issues: most notably, they suffer from noise and they are not stable to small changes in the input or in the model (try running again the training and interpreting the same point). Many methods have been proposed to overcome this.\n",
        "\n",
        "**[SmoothGrad](https://arxiv.org/abs/1706.03825)**, for example, computes multiple saliency maps from noisy versions of the input:\n",
        "\n",
        "$$\n",
        "  \\text{SmoothGrad}(x) = \\frac{1}{n}\\sum_{i=1}^n S(x + \\varepsilon_i), \\;\\; \\varepsilon_i \\sim \\mathcal{N}(0, \\sigma^2I)\n",
        "$$\n",
        "\n",
        "where $\\varepsilon$ is a vector of the same shape as $x$, whose values are sampled from a normal distribution with zero mean and small variance.\n",
        "\n",
        "🟩 **Completion requirement**: Implement the SmoothGrad procedure for the same point. Has the explanation improved? Bonus points if you can avoid running a for-loop, and by calling the gradient operation a single time.\n"
      ],
      "metadata": {
        "id": "XXUhR5ZH9PKQ"
      }
    },
    {
      "cell_type": "code",
      "source": [
        "# TODO: Take an element from your test set and compute SmoothGrad. Check the results and compare with respect to the previous exercise."
      ],
      "metadata": {
        "id": "rJZBZUFA6POv"
      },
      "execution_count": null,
      "outputs": []
    },
    {
      "cell_type": "markdown",
      "source": [
        "### Exercise 4: Global explanations (2 points)\n",
        "\n",
        "The previous exercises are examples of **local** explanations, where we try to interpret a single prediction of the network. Sometimes we are interested in **global** explanations, that try to find common patterns of behaviour. Suppose we have a dataset $\\mathcal{T} = \\left\\{x_i\\right\\}$ of examples, we can compute some approximate global measure of influence by averaging their saliency:\n",
        "\n",
        "$$\n",
        "\\text{GlobalSaliency} = \\frac{1}{n} \\sum_i S(x_i)\n",
        "$$\n",
        "\n",
        "To make this exercise more interesting, we will split it into 3 parts.\n",
        "\n",
        "**Exercise 4.1**: write a function to compute in parallel the saliency for multiple examples. Note that the resulting matrix $S$ will have shape $(n, d)$, where $n$ is the number of examples and $d$ the size of the input, which is the Jacobian of the network. Try to write the function by avoiding for-loops and multiple tapes, using the [proper tools from TensorFlow](https://www.tensorflow.org/guide/advanced_autodiff)."
      ],
      "metadata": {
        "id": "pIFUonMOY-Mh"
      }
    },
    {
      "cell_type": "code",
      "source": [
        "# TODO: Write the required function, possibly avoding for-loops."
      ],
      "metadata": {
        "id": "nJdQ6nbp-rIM"
      },
      "execution_count": null,
      "outputs": []
    },
    {
      "cell_type": "markdown",
      "source": [
        "**Exercise 4.2**: write a function to compute the global saliency and try to explain the results."
      ],
      "metadata": {
        "id": "As4lalRBcMHw"
      }
    },
    {
      "cell_type": "code",
      "source": [
        "# TODO: Write the required function."
      ],
      "metadata": {
        "id": "O08JfYJQcS1u"
      },
      "execution_count": null,
      "outputs": []
    },
    {
      "cell_type": "markdown",
      "source": [
        "**Exercise 4.3**: note that a linear model $f(x) = w^\\top x + b$ is an example of an *intrinsically* interpretable  model, since the weights $w$ can be checked to analyze the global saliency of each feature (see [3])."
      ],
      "metadata": {
        "id": "D2j6pi3XcX86"
      }
    },
    {
      "cell_type": "code",
      "source": [
        "# TODO: Compare the results you obtained before with a simpler linear model."
      ],
      "metadata": {
        "id": "vjnDxBNicom1"
      },
      "execution_count": null,
      "outputs": []
    },
    {
      "cell_type": "markdown",
      "source": [
        "### Optional exercises and parting words\n",
        "\n",
        "> ⚠ Explainability is a complex topic, with multiple issues arising from the over-abundance of techniques, their instability, etc. While an interesting research topic to pursue, never use blindly these techniques in high-stake applications!\n",
        "\n",
        "These exercises were just a brief and short introduction to the topic of explainability. Below you can find some additional exercises to tackle if you are interested. Remember that these are not part of your grade, but I am happy to provide feedback if they are of interest to you.\n",
        "\n",
        "1. There are dozens of possible variations on feature attribution methods, which may or may not provide better results (see [4] for a benchmarking and this nice [Distill blog post](https://distill.pub/2020/attribution-baselines/)). **[Integrated Gradients](https://arxiv.org/abs/1703.01365)** are an interesting example, where the saliency is integrated over a path ranging from an empty input to the true input. Try implementing integrated gradients.\n",
        "2. **Data attribution** methods are a different class of explanation methods, which try to predict what points in the dataset where most influential to a given prediction (e.g., a picture of a cat will be especially influential on similar pictures). One example of such methods is TracIn [5], which stores checkpoints of the model during training and evaluates the correlation of the gradients. Try to implement TracIn or any other metric of data influence.\n",
        "3. A recent line of research tries to use large language models (e.g., ChatGPT) to explain other models (e.g., see [Language models can explain neurons in language models](https://openai.com/research/language-models-can-explain-neurons-in-language-models)). If you have access to an LLM, you can try it! Take a specific neuron in the model, and collect the activation for multiple examples. Provide these activations to the LLM, and prompt it to provide a human-understandable explanation. What is the result?"
      ],
      "metadata": {
        "id": "Pp2K2VXGdAtd"
      }
    },
    {
      "cell_type": "markdown",
      "source": [
        "### Final checklist\n",
        "\n",
        "1. Carefully check all code. Insert comments when needed. Search for \"TODO\" to see if you forgot something.\n",
        "2. Run everything one final time. *Please do not send me notebooks with errors or cells that are not working.*\n",
        "3. Upload the completed notebook **before 10/11/2023 23:59** on the Google Classrom page."
      ],
      "metadata": {
        "id": "GIyU8c7lh4Ly"
      }
    },
    {
      "cell_type": "markdown",
      "source": [
        "### Bibliography\n",
        "\n",
        "[1] Simonyan, K., Vedaldi, A. and Zisserman, A., 2013. [Deep inside convolutional networks: Visualising image classification models and saliency maps](https://arxiv.org/abs/1312.6034). arXiv preprint arXiv:1312.6034.\n",
        "\n",
        "[2] Smilkov, D., Thorat, N., Kim, B., Viégas, F. and Wattenberg, M., 2017. [SmoothGrad: removing noise by adding noise](https://arxiv.org/abs/1706.03825). arXiv preprint arXiv:1706.03825.\n",
        "\n",
        "[3] Rudin, C., 2019. [Stop explaining black box machine learning models for high stakes decisions and use interpretable models instead](https://www.nature.com/articles/s42256-019-0048-x). Nature Machine Intelligence, 1(5), pp. 206-215.\n",
        "\n",
        "[4] Nguyen, G., Kim, D. and Nguyen, A., 2021. [The effectiveness of feature attribution methods and its correlation with automatic evaluation scores](https://proceedings.neurips.cc/paper/2021/hash/de043a5e421240eb846da8effe472ff1-Abstract.html). Advances in Neural Information Processing Systems, 34, pp.26422-26436.\n",
        "\n",
        "[5] Pruthi, G., Liu, F., Kale, S. and Sundararajan, M., 2020. [Estimating training data influence by tracing gradient descent](https://proceedings.neurips.cc/paper/2020/hash/e6385d39ec9394f2f3a354d9d2b88eec-Abstract.html). Advances in Neural Information Processing Systems, 33, pp. 19920-19930."
      ],
      "metadata": {
        "id": "YCfzjQOIe6CQ"
      }
    }
  ]
}