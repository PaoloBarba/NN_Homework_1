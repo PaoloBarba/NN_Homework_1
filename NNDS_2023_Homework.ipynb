{
  "nbformat": 4,
  "nbformat_minor": 0,
  "metadata": {
    "colab": {
      "provenance": [],
      "include_colab_link": true
    },
    "kernelspec": {
      "name": "python3",
      "display_name": "Python 3"
    },
    "language_info": {
      "name": "python"
    },
    "accelerator": "GPU"
  },
  "cells": [
    {
      "cell_type": "markdown",
      "metadata": {
        "id": "view-in-github",
        "colab_type": "text"
      },
      "source": [
        "<a href=\"https://colab.research.google.com/github/PaoloBarba/NN_Homework_1/blob/main/NNDS_2023_Homework.ipynb\" target=\"_parent\"><img src=\"https://colab.research.google.com/assets/colab-badge.svg\" alt=\"Open In Colab\"/></a>"
      ]
    },
    {
      "cell_type": "markdown",
      "source": [
        "# Neural Networks for Data Science Applications\n",
        "## Homework 1: Saliency maps for interpretability\n",
        "\n",
        "**Name**: *Paolo*\n",
        "\n",
        "**Matricola**: *1885324*\n",
        "\n",
        "> ✍ Upload the completed notebook **before 10/11/2023 at 23:59** on the Google Classroom page."
      ],
      "metadata": {
        "id": "BwfXT98e5hQc"
      }
    },
    {
      "cell_type": "code",
      "execution_count": 1,
      "metadata": {
        "id": "5V6Ph3UT44Xo"
      },
      "outputs": [],
      "source": [
        "import tensorflow as tf\n",
        "import matplotlib.pyplot as plt"
      ]
    },
    {
      "cell_type": "code",
      "source": [
        "# To ensure reproducible results (as much as possible)\n",
        "tf.keras.utils.set_random_seed(1234)"
      ],
      "metadata": {
        "id": "GkYGd_WY_2nq"
      },
      "execution_count": 2,
      "outputs": []
    },
    {
      "cell_type": "markdown",
      "source": [
        "### Overview\n",
        "\n",
        "Neural networks are powerful tools, but they are **black-boxes**, meaning that it is difficult to provide human-understandable explanations on what they are doing. The field of **explanaibility** is concerned with finding algorithms for achieving this. In this homework, you will be guided in implementing some basic explanaibility algorithms (**saliency maps**), which is an instructive way of playing with the TensorFlow autodiff framework.\n",
        "\n",
        "### Instructions\n",
        "\n",
        "1. The homework is divided into four mandatory exercises (**5 points in total**), and a few optional exercises. Optional exercises are provided if you like the topic and would like to explore more; you are free to ignore them or complete as many as you want. I will not grade them but I might provide feedback for especially nice solutions.\n",
        "2. Completing the homework successfully will remove 1 exercise from the end-of-term homework.\n",
        "3. If your grade does not satisfy you, you are also free to complete the full EoT homework to recover it.\n",
        "3. The grade can be kept for the entire academic year (up to October 2024).\n",
        "\n",
        "**IMPORTANT - read carefully before starting**:\n",
        "\n",
        "> 🟨 *External material*: if you use any external material or inspiration for the code, reference it *explicitly* in the corresponding cell. For the textual descriptions, copy-paste *is not allowed*. <ins>Not following these two points is an immediate 0 mark</ins>.\n",
        "\n",
        "> 🔵 *Grammar*: for the textual descriptions, I will remove points for too many grammatical or textual errors. Please try to be precise and provide nice-to-read descriptions, like if you were writing a report.\n",
        "\n",
        "> 🟥 *Vectorization and TensorFlow*: the homework must be done _fully in TensorFlow_ and vectorizing the code as much as possible (e.g., do not loop explicitly over the batch dimension).\n",
        "\n",
        "> 🟪 *Math*: you can also use LaTeX in Markdown if you need to write equations or if you need generic math notation."
      ],
      "metadata": {
        "id": "BmzKI83R0uYa"
      }
    },
    {
      "cell_type": "markdown",
      "source": [
        "## Warmup: Data loading\n",
        "\n",
        "For this homework, you can select any **tabular dataset** that you like, for either classification or regression. A few repositories that you can look at:\n",
        "\n",
        "1. The catalog of [TensorFlow Datasets](https://www.tensorflow.org/datasets/).\n",
        "2. The [Kaggle catalog](https://www.kaggle.com/data). For downloading data from Kaggle on Google Colab, you will need to [load your Kaggle authentication token](https://colab.research.google.com/github/corrieann/kaggle/blob/master/kaggle_api_in_colab.ipynb).\n",
        "3. The [UCI Machine Learning Repository](https://archive.ics.uci.edu/ml/datasets.php).\n",
        "4. The [🤗 HuggingFace Datasets](https://huggingface.co/docs/datasets/) repository.\n",
        "\n",
        "You are not bound to these; any open repository is okay. The choice of dataset will not influence the mark."
      ],
      "metadata": {
        "id": "SE7pCfZK2G5M"
      }
    },
    {
      "cell_type": "markdown",
      "source": [
        "✍ **DESCRIPTION OF THE CODE**\n",
        "\n",
        "*Provide a small description of the dataset below (e.g., source, task, bibliographic reference if necessary...), both as text and in the comments of the code.*\n",
        "\n",
        "The dataset originates from Kaggle.It comprises records of different kind of wines considering their chimical properties. Each of the wine has associated a quality score that belong in $\\{1,2,3,4,5\\}$. The goal of a predictive model will be to estimate the quality of the wine considering the chemical properties as a covariates.\n",
        "\n",
        "\n"
      ],
      "metadata": {
        "id": "fzThDtr4VJ5x"
      }
    },
    {
      "cell_type": "code",
      "source": [
        "# TODO: Insert any data loading code here. If the data loading part is complex,\n",
        "# consider using a separate .py file that you can attach to the submission.\n",
        "# Data Load\n",
        "import pandas as pd\n",
        "import numpy as np\n",
        "from google.colab import files\n",
        "import os\n",
        "from zipfile import ZipFile\n",
        "uploaded = files.upload()\n",
        "os.environ['KAGGLE_CONFIG_DIR'] = \"/content\"\n",
        "!kaggle datasets download -d uciml/red-wine-quality-cortez-et-al-2009\n",
        "!chmod 600 /content/kaggle.json\n",
        "with ZipFile('red-wine-quality-cortez-et-al-2009.zip', 'r') as zipObj:\n",
        "   zipObj.extractall()\n",
        "   wine = pd.read_csv(\"winequality-red.csv\")"
      ],
      "metadata": {
        "id": "FpQj4F8n20LI",
        "colab": {
          "base_uri": "https://localhost:8080/",
          "height": 90
        },
        "outputId": "d51756b4-b84a-456c-fada-6e9719b631ff"
      },
      "execution_count": 15,
      "outputs": [
        {
          "output_type": "display_data",
          "data": {
            "text/plain": [
              "<IPython.core.display.HTML object>"
            ],
            "text/html": [
              "\n",
              "     <input type=\"file\" id=\"files-a85d3509-8f9a-415b-8cf5-adedf2221359\" name=\"files[]\" multiple disabled\n",
              "        style=\"border:none\" />\n",
              "     <output id=\"result-a85d3509-8f9a-415b-8cf5-adedf2221359\">\n",
              "      Upload widget is only available when the cell has been executed in the\n",
              "      current browser session. Please rerun this cell to enable.\n",
              "      </output>\n",
              "      <script>// Copyright 2017 Google LLC\n",
              "//\n",
              "// Licensed under the Apache License, Version 2.0 (the \"License\");\n",
              "// you may not use this file except in compliance with the License.\n",
              "// You may obtain a copy of the License at\n",
              "//\n",
              "//      http://www.apache.org/licenses/LICENSE-2.0\n",
              "//\n",
              "// Unless required by applicable law or agreed to in writing, software\n",
              "// distributed under the License is distributed on an \"AS IS\" BASIS,\n",
              "// WITHOUT WARRANTIES OR CONDITIONS OF ANY KIND, either express or implied.\n",
              "// See the License for the specific language governing permissions and\n",
              "// limitations under the License.\n",
              "\n",
              "/**\n",
              " * @fileoverview Helpers for google.colab Python module.\n",
              " */\n",
              "(function(scope) {\n",
              "function span(text, styleAttributes = {}) {\n",
              "  const element = document.createElement('span');\n",
              "  element.textContent = text;\n",
              "  for (const key of Object.keys(styleAttributes)) {\n",
              "    element.style[key] = styleAttributes[key];\n",
              "  }\n",
              "  return element;\n",
              "}\n",
              "\n",
              "// Max number of bytes which will be uploaded at a time.\n",
              "const MAX_PAYLOAD_SIZE = 100 * 1024;\n",
              "\n",
              "function _uploadFiles(inputId, outputId) {\n",
              "  const steps = uploadFilesStep(inputId, outputId);\n",
              "  const outputElement = document.getElementById(outputId);\n",
              "  // Cache steps on the outputElement to make it available for the next call\n",
              "  // to uploadFilesContinue from Python.\n",
              "  outputElement.steps = steps;\n",
              "\n",
              "  return _uploadFilesContinue(outputId);\n",
              "}\n",
              "\n",
              "// This is roughly an async generator (not supported in the browser yet),\n",
              "// where there are multiple asynchronous steps and the Python side is going\n",
              "// to poll for completion of each step.\n",
              "// This uses a Promise to block the python side on completion of each step,\n",
              "// then passes the result of the previous step as the input to the next step.\n",
              "function _uploadFilesContinue(outputId) {\n",
              "  const outputElement = document.getElementById(outputId);\n",
              "  const steps = outputElement.steps;\n",
              "\n",
              "  const next = steps.next(outputElement.lastPromiseValue);\n",
              "  return Promise.resolve(next.value.promise).then((value) => {\n",
              "    // Cache the last promise value to make it available to the next\n",
              "    // step of the generator.\n",
              "    outputElement.lastPromiseValue = value;\n",
              "    return next.value.response;\n",
              "  });\n",
              "}\n",
              "\n",
              "/**\n",
              " * Generator function which is called between each async step of the upload\n",
              " * process.\n",
              " * @param {string} inputId Element ID of the input file picker element.\n",
              " * @param {string} outputId Element ID of the output display.\n",
              " * @return {!Iterable<!Object>} Iterable of next steps.\n",
              " */\n",
              "function* uploadFilesStep(inputId, outputId) {\n",
              "  const inputElement = document.getElementById(inputId);\n",
              "  inputElement.disabled = false;\n",
              "\n",
              "  const outputElement = document.getElementById(outputId);\n",
              "  outputElement.innerHTML = '';\n",
              "\n",
              "  const pickedPromise = new Promise((resolve) => {\n",
              "    inputElement.addEventListener('change', (e) => {\n",
              "      resolve(e.target.files);\n",
              "    });\n",
              "  });\n",
              "\n",
              "  const cancel = document.createElement('button');\n",
              "  inputElement.parentElement.appendChild(cancel);\n",
              "  cancel.textContent = 'Cancel upload';\n",
              "  const cancelPromise = new Promise((resolve) => {\n",
              "    cancel.onclick = () => {\n",
              "      resolve(null);\n",
              "    };\n",
              "  });\n",
              "\n",
              "  // Wait for the user to pick the files.\n",
              "  const files = yield {\n",
              "    promise: Promise.race([pickedPromise, cancelPromise]),\n",
              "    response: {\n",
              "      action: 'starting',\n",
              "    }\n",
              "  };\n",
              "\n",
              "  cancel.remove();\n",
              "\n",
              "  // Disable the input element since further picks are not allowed.\n",
              "  inputElement.disabled = true;\n",
              "\n",
              "  if (!files) {\n",
              "    return {\n",
              "      response: {\n",
              "        action: 'complete',\n",
              "      }\n",
              "    };\n",
              "  }\n",
              "\n",
              "  for (const file of files) {\n",
              "    const li = document.createElement('li');\n",
              "    li.append(span(file.name, {fontWeight: 'bold'}));\n",
              "    li.append(span(\n",
              "        `(${file.type || 'n/a'}) - ${file.size} bytes, ` +\n",
              "        `last modified: ${\n",
              "            file.lastModifiedDate ? file.lastModifiedDate.toLocaleDateString() :\n",
              "                                    'n/a'} - `));\n",
              "    const percent = span('0% done');\n",
              "    li.appendChild(percent);\n",
              "\n",
              "    outputElement.appendChild(li);\n",
              "\n",
              "    const fileDataPromise = new Promise((resolve) => {\n",
              "      const reader = new FileReader();\n",
              "      reader.onload = (e) => {\n",
              "        resolve(e.target.result);\n",
              "      };\n",
              "      reader.readAsArrayBuffer(file);\n",
              "    });\n",
              "    // Wait for the data to be ready.\n",
              "    let fileData = yield {\n",
              "      promise: fileDataPromise,\n",
              "      response: {\n",
              "        action: 'continue',\n",
              "      }\n",
              "    };\n",
              "\n",
              "    // Use a chunked sending to avoid message size limits. See b/62115660.\n",
              "    let position = 0;\n",
              "    do {\n",
              "      const length = Math.min(fileData.byteLength - position, MAX_PAYLOAD_SIZE);\n",
              "      const chunk = new Uint8Array(fileData, position, length);\n",
              "      position += length;\n",
              "\n",
              "      const base64 = btoa(String.fromCharCode.apply(null, chunk));\n",
              "      yield {\n",
              "        response: {\n",
              "          action: 'append',\n",
              "          file: file.name,\n",
              "          data: base64,\n",
              "        },\n",
              "      };\n",
              "\n",
              "      let percentDone = fileData.byteLength === 0 ?\n",
              "          100 :\n",
              "          Math.round((position / fileData.byteLength) * 100);\n",
              "      percent.textContent = `${percentDone}% done`;\n",
              "\n",
              "    } while (position < fileData.byteLength);\n",
              "  }\n",
              "\n",
              "  // All done.\n",
              "  yield {\n",
              "    response: {\n",
              "      action: 'complete',\n",
              "    }\n",
              "  };\n",
              "}\n",
              "\n",
              "scope.google = scope.google || {};\n",
              "scope.google.colab = scope.google.colab || {};\n",
              "scope.google.colab._files = {\n",
              "  _uploadFiles,\n",
              "  _uploadFilesContinue,\n",
              "};\n",
              "})(self);\n",
              "</script> "
            ]
          },
          "metadata": {}
        },
        {
          "output_type": "stream",
          "name": "stdout",
          "text": [
            "Saving kaggle.json to kaggle (1).json\n",
            "red-wine-quality-cortez-et-al-2009.zip: Skipping, found more recently modified local copy (use --force to force download)\n"
          ]
        }
      ]
    },
    {
      "cell_type": "code",
      "source": [
        "# Separete the covariates and the target variable.\n",
        "X , y = wine.drop(columns=[\"quality\"]) , wine[\"quality\"]"
      ],
      "metadata": {
        "id": "BwfqIwtN6N6I"
      },
      "execution_count": 16,
      "outputs": []
    },
    {
      "cell_type": "code",
      "source": [
        "# Let us check the frequencies of the target variable in  order to chooce the best\n",
        "categ = pd.Series(y)\n",
        "value_counts = categ.value_counts()\n",
        "\n",
        "# Create the bar plot\n",
        "plt.bar(value_counts.index, value_counts.values)\n",
        "plt.xlabel('Categories')\n",
        "plt.ylabel('Frequency')\n",
        "plt.title('Bar Plot of Outcome varible')\n",
        "plt.show()\n"
      ],
      "metadata": {
        "id": "uGlEnttcanSu",
        "outputId": "0f7d03a7-fa33-4bbe-c014-8c53cdc88e6a",
        "colab": {
          "base_uri": "https://localhost:8080/",
          "height": 472
        }
      },
      "execution_count": 17,
      "outputs": [
        {
          "output_type": "display_data",
          "data": {
            "text/plain": [
              "<Figure size 640x480 with 1 Axes>"
            ],
            "image/png": "[encoded data removed]"
          },
          "metadata": {}
        }
      ]
    },
    {
      "cell_type": "markdown",
      "source": [
        "It is worth noticing that we are dealing with a unbalanced dataset. To deal with that we have to modify the structure of our task, for istance by choosing the appropiate metric to maximize or by downsampling/ upsampling our observations. Nevertheless, this is not the actual topic of the homework, since that we can take some assumptions to simplify the problem as considering just two categories to predict:\n",
        "\n",
        "- The lower score class :    score $\\leq 5$\n",
        "\n",
        "- The greater score class : score $> 5$"
      ],
      "metadata": {
        "id": "Rt5D4XZoWBIU"
      }
    },
    {
      "cell_type": "code",
      "source": [
        "y = np.where(y <= 5 , 0 , 1)"
      ],
      "metadata": {
        "id": "ez2IQSpS-y5e"
      },
      "execution_count": 18,
      "outputs": []
    },
    {
      "cell_type": "code",
      "source": [
        "# Let us check the frequencis for each class\n",
        "\n",
        "categ = pd.Series(y)\n",
        "value_counts = categ.value_counts()\n",
        "\n",
        "# Create the bar plot\n",
        "plt.bar(value_counts.index, value_counts.values)\n",
        "plt.xlabel('Categories')\n",
        "plt.ylabel('Frequency')\n",
        "plt.title('Bar Plot of Outcome varible considering \\n only two catagories')\n",
        "plt.show()"
      ],
      "metadata": {
        "id": "IFFL50T-YB23",
        "outputId": "ff47c50a-2293-46fc-85e1-b47cb42ff9f6",
        "colab": {
          "base_uri": "https://localhost:8080/",
          "height": 493
        }
      },
      "execution_count": 20,
      "outputs": [
        {
          "output_type": "display_data",
          "data": {
            "text/plain": [
              "<Figure size 640x480 with 1 Axes>"
            ],
            "image/png": "[encoded data removed]"
          },
          "metadata": {}
        }
      ]
    },
    {
      "cell_type": "markdown",
      "source": [
        "Considering only two catagories for the target variable, the dataset looks more balance, ending in a easier implementetion of the predictive model."
      ],
      "metadata": {
        "id": "Bc0_iInf_-xc"
      }
    },
    {
      "cell_type": "code",
      "source": [
        "# Let us split the dataset in train and test\n",
        "from sklearn.model_selection import train_test_split\n",
        "\n",
        "X_train, X_test, y_train, y_test = train_test_split(X, y, test_size=0.3, random_state=123)\n",
        "\n",
        "\n",
        "\n"
      ],
      "metadata": {
        "id": "AcxN4Y2Avccb"
      },
      "execution_count": 21,
      "outputs": []
    },
    {
      "cell_type": "markdown",
      "source": [
        "### Exercise 1: Train a neural network model (1 point)\n",
        "\n",
        "Define, train, and test a neural network for the provided dataset.\n",
        "\n",
        "☝ You are free to make any modelling choice (e.g., activation function, normalization layers, etc.), provided the result makes sense.\n",
        "\n",
        "✅ **Completion requirement**: print on screen the test accuracy of the network. Additional comments and visualizations are also appreciated."
      ],
      "metadata": {
        "id": "5Myy-Aq33upU"
      }
    },
    {
      "cell_type": "code",
      "source": [
        "from sklearn.model_selection import train_test_split\n",
        "from tensorflow.keras.models import Sequential\n",
        "from tensorflow.keras.layers import Dense , BatchNormalization\n",
        "\n",
        "\n",
        "model = Sequential([\n",
        "    BatchNormalization(),   # Layer that normalizes its inputs.\n",
        "    Dense(256, activation='relu',input_shape=(1,11)), # First layer with relu as the activation function\n",
        "    Dense(1 , activation = 'sigmoid'),\n",
        "\n",
        "])\n",
        "\n",
        "# Compile the model\n",
        "model.compile(optimizer='adam', loss='binary_crossentropy', metrics= ['accuracy'])\n",
        "\n",
        "# Train the modelfit\n",
        "fitted_model = model.fit(X_train, y_train, epochs=30, batch_size = 32, validation_split = 0.3)\n"
      ],
      "metadata": {
        "id": "_gTJIyBm5WHB",
        "outputId": "5eb34f98-844d-4aee-8dad-43b7d28a2584",
        "colab": {
          "base_uri": "https://localhost:8080/"
        }
      },
      "execution_count": 25,
      "outputs": [
        {
          "output_type": "stream",
          "name": "stdout",
          "text": [
            "Epoch 1/30\n",
            "25/25 [==============================] - 2s 12ms/step - loss: 0.6297 - accuracy: 0.6181 - val_loss: 1.5171 - val_accuracy: 0.5655\n",
            "Epoch 2/30\n",
            "25/25 [==============================] - 0s 5ms/step - loss: 0.5522 - accuracy: 0.7203 - val_loss: 1.6253 - val_accuracy: 0.5655\n",
            "Epoch 3/30\n",
            "25/25 [==============================] - 0s 7ms/step - loss: 0.5222 - accuracy: 0.7446 - val_loss: 1.4461 - val_accuracy: 0.5655\n",
            "Epoch 4/30\n",
            "25/25 [==============================] - 0s 5ms/step - loss: 0.5192 - accuracy: 0.7318 - val_loss: 1.2003 - val_accuracy: 0.5655\n",
            "Epoch 5/30\n",
            "25/25 [==============================] - 0s 5ms/step - loss: 0.5116 - accuracy: 0.7510 - val_loss: 0.9626 - val_accuracy: 0.5744\n",
            "Epoch 6/30\n",
            "25/25 [==============================] - 0s 5ms/step - loss: 0.5026 - accuracy: 0.7548 - val_loss: 0.7764 - val_accuracy: 0.5952\n",
            "Epoch 7/30\n",
            "25/25 [==============================] - 0s 5ms/step - loss: 0.5015 - accuracy: 0.7433 - val_loss: 0.6829 - val_accuracy: 0.6161\n",
            "Epoch 8/30\n",
            "25/25 [==============================] - 0s 7ms/step - loss: 0.4920 - accuracy: 0.7458 - val_loss: 0.6058 - val_accuracy: 0.6577\n",
            "Epoch 9/30\n",
            "25/25 [==============================] - 0s 5ms/step - loss: 0.4946 - accuracy: 0.7676 - val_loss: 0.5702 - val_accuracy: 0.7173\n",
            "Epoch 10/30\n",
            "25/25 [==============================] - 0s 5ms/step - loss: 0.4956 - accuracy: 0.7433 - val_loss: 0.5393 - val_accuracy: 0.7262\n",
            "Epoch 11/30\n",
            "25/25 [==============================] - 0s 7ms/step - loss: 0.4898 - accuracy: 0.7637 - val_loss: 0.5285 - val_accuracy: 0.7411\n",
            "Epoch 12/30\n",
            "25/25 [==============================] - 0s 7ms/step - loss: 0.4914 - accuracy: 0.7484 - val_loss: 0.5233 - val_accuracy: 0.7470\n",
            "Epoch 13/30\n",
            "25/25 [==============================] - 0s 5ms/step - loss: 0.4913 - accuracy: 0.7586 - val_loss: 0.5208 - val_accuracy: 0.7500\n",
            "Epoch 14/30\n",
            "25/25 [==============================] - 0s 7ms/step - loss: 0.4817 - accuracy: 0.7714 - val_loss: 0.5212 - val_accuracy: 0.7411\n",
            "Epoch 15/30\n",
            "25/25 [==============================] - 0s 7ms/step - loss: 0.4837 - accuracy: 0.7778 - val_loss: 0.5204 - val_accuracy: 0.7530\n",
            "Epoch 16/30\n",
            "25/25 [==============================] - 0s 7ms/step - loss: 0.4683 - accuracy: 0.7905 - val_loss: 0.5181 - val_accuracy: 0.7440\n",
            "Epoch 17/30\n",
            "25/25 [==============================] - 0s 7ms/step - loss: 0.4801 - accuracy: 0.7688 - val_loss: 0.5152 - val_accuracy: 0.7411\n",
            "Epoch 18/30\n",
            "25/25 [==============================] - 0s 7ms/step - loss: 0.4723 - accuracy: 0.7765 - val_loss: 0.5173 - val_accuracy: 0.7351\n",
            "Epoch 19/30\n",
            "25/25 [==============================] - 0s 5ms/step - loss: 0.4698 - accuracy: 0.7778 - val_loss: 0.5187 - val_accuracy: 0.7351\n",
            "Epoch 20/30\n",
            "25/25 [==============================] - 0s 7ms/step - loss: 0.4724 - accuracy: 0.7688 - val_loss: 0.5179 - val_accuracy: 0.7351\n",
            "Epoch 21/30\n",
            "25/25 [==============================] - 0s 5ms/step - loss: 0.4761 - accuracy: 0.7650 - val_loss: 0.5191 - val_accuracy: 0.7351\n",
            "Epoch 22/30\n",
            "25/25 [==============================] - 0s 5ms/step - loss: 0.4608 - accuracy: 0.7829 - val_loss: 0.5205 - val_accuracy: 0.7292\n",
            "Epoch 23/30\n",
            "25/25 [==============================] - 0s 7ms/step - loss: 0.4621 - accuracy: 0.7778 - val_loss: 0.5200 - val_accuracy: 0.7292\n",
            "Epoch 24/30\n",
            "25/25 [==============================] - 0s 7ms/step - loss: 0.4678 - accuracy: 0.7803 - val_loss: 0.5160 - val_accuracy: 0.7351\n",
            "Epoch 25/30\n",
            "25/25 [==============================] - 0s 7ms/step - loss: 0.4573 - accuracy: 0.7727 - val_loss: 0.5206 - val_accuracy: 0.7321\n",
            "Epoch 26/30\n",
            "25/25 [==============================] - 0s 7ms/step - loss: 0.4463 - accuracy: 0.7842 - val_loss: 0.5153 - val_accuracy: 0.7411\n",
            "Epoch 27/30\n",
            "25/25 [==============================] - 0s 5ms/step - loss: 0.4634 - accuracy: 0.7854 - val_loss: 0.5160 - val_accuracy: 0.7381\n",
            "Epoch 28/30\n",
            "25/25 [==============================] - 0s 5ms/step - loss: 0.4553 - accuracy: 0.7816 - val_loss: 0.5180 - val_accuracy: 0.7292\n",
            "Epoch 29/30\n",
            "25/25 [==============================] - 0s 7ms/step - loss: 0.4608 - accuracy: 0.7816 - val_loss: 0.5221 - val_accuracy: 0.7321\n",
            "Epoch 30/30\n",
            "25/25 [==============================] - 0s 7ms/step - loss: 0.4529 - accuracy: 0.7739 - val_loss: 0.5217 - val_accuracy: 0.7381\n"
          ]
        }
      ]
    },
    {
      "cell_type": "markdown",
      "source": [
        "Let's analyze the training procedure by plotting:\n",
        "\n",
        "- Training & validation losses\n",
        "- Training & validation accuracies\n",
        "\n",
        "\n",
        "in order to detect if there are some sign of overfitting and underfitting during the training phase."
      ],
      "metadata": {
        "id": "F7tTj31rZFDg"
      }
    },
    {
      "cell_type": "code",
      "source": [
        "# Compute the training & validation loss\n",
        "train_loss = fitted_model.history['loss']\n",
        "val_loss = fitted_model.history['val_loss']\n",
        "# Compute the training & validation accuracy\n",
        "train_metric = fitted_model.history['accuracy']\n",
        "val_metric = fitted_model.history['val_accuracy']\n",
        "\n",
        "# Plot the training loss\n",
        "plt.figure(figsize=(10, 5))\n",
        "plt.plot(np.arange(1, len(train_loss)+1), train_loss, label='Training Loss')\n",
        "plt.plot(np.arange(1, len(val_loss)+1), val_loss, label='Validation Loss')\n",
        "plt.xlabel('Epochs')\n",
        "plt.ylabel('Loss')\n",
        "plt.title('Training and Validation Losses')\n",
        "plt.legend()\n",
        "plt.show()\n",
        "\n",
        "# Plot the training metric\n",
        "plt.figure(figsize=(10, 5))\n",
        "plt.plot(np.arange(1, len(train_metric)+1), train_metric, label='Training Metric')\n",
        "plt.plot(np.arange(1, len(val_metric)+1), val_metric, label='Validation Metric')\n",
        "plt.xlabel('Epochs')\n",
        "plt.ylabel('Metric Value')\n",
        "plt.title('Training and Validation Metric')\n",
        "plt.legend()\n",
        "plt.show()\n"
      ],
      "metadata": {
        "colab": {
          "base_uri": "https://localhost:8080/",
          "height": 957
        },
        "id": "TPUd45FMyjSK",
        "outputId": "e0180f64-8dba-4c1c-bf1a-b562007f2ea1"
      },
      "execution_count": 26,
      "outputs": [
        {
          "output_type": "display_data",
          "data": {
            "text/plain": [
              "<Figure size 1000x500 with 1 Axes>"
            ],
            "image/png": "[encoded data removed]"
          },
          "metadata": {}
        },
        {
          "output_type": "display_data",
          "data": {
            "text/plain": [
              "<Figure size 1000x500 with 1 Axes>"
            ],
            "image/png": "[encoded data removed]"
          },
          "metadata": {}
        }
      ]
    },
    {
      "cell_type": "markdown",
      "source": [
        "There are no signs of any kind of overfitting and underfitting. We can see a lot of variations on the validation loss. This could be due by the fact that we are dealing with a relative short dataset [TODO mettere le osservazione] observations. And the validation metric won't be accurate."
      ],
      "metadata": {
        "id": "fpTreJPzZ-KW"
      }
    },
    {
      "cell_type": "code",
      "source": [
        "# TODO: test the neural network and print the result on screen.\n",
        "# Evaluate the model on the test set\n",
        "test_loss, test_accuracy = model.evaluate(X_test, y_test)"
      ],
      "metadata": {
        "id": "cJJFyts8Wqez",
        "colab": {
          "base_uri": "https://localhost:8080/"
        },
        "outputId": "2d42edba-6009-4f18-c564-f449c9fb2d2d"
      },
      "execution_count": 27,
      "outputs": [
        {
          "output_type": "stream",
          "name": "stdout",
          "text": [
            "15/15 [==============================] - 0s 2ms/step - loss: 0.5251 - accuracy: 0.7396\n"
          ]
        }
      ]
    },
    {
      "cell_type": "code",
      "source": [
        "from sklearn.metrics import confusion_matrix, ConfusionMatrixDisplay\n",
        "\n",
        "y_pred = model.predict(X_test)\n",
        "y_pred[y_pred >=.5] = 1\n",
        "y_pred[y_pred < .5] = 0\n",
        "\n",
        "# Compute the confusion matric\n",
        "confusion_mtx = confusion_matrix(y_test, y_pred)\n",
        "\n",
        "# Define class labels (optional, if applicable)\n",
        "class_names = ['Class 0', 'Class 1']  # Replace with your actual class labels\n",
        "\n",
        "# Plot the confusion matrix\n",
        "disp = ConfusionMatrixDisplay(confusion_matrix=confusion_mtx, display_labels=class_names)\n",
        "disp.plot(cmap=plt.cm.Blues, values_format='d')  # cmap is the color map for the matrix\n",
        "\n",
        "plt.title('Confusion Matrix')\n",
        "plt.show()"
      ],
      "metadata": {
        "colab": {
          "base_uri": "https://localhost:8080/",
          "height": 489
        },
        "id": "NIsCqTsF0nLu",
        "outputId": "075e543f-7ca5-4a4f-f5d1-d862aedf2f13"
      },
      "execution_count": 28,
      "outputs": [
        {
          "output_type": "stream",
          "name": "stdout",
          "text": [
            "15/15 [==============================] - 0s 2ms/step\n"
          ]
        },
        {
          "output_type": "display_data",
          "data": {
            "text/plain": [
              "<Figure size 640x480 with 2 Axes>"
            ],
            "image/png": "[encoded data removed]"
          },
          "metadata": {}
        }
      ]
    },
    {
      "cell_type": "markdown",
      "source": [
        "### Exercise 2: Computing a vanilla saliency map (1 points)\n",
        "\n",
        "> Before starting, I suggest you read [1] as a warm-up. This is one of the first papers that tried to apply this kind of techniques to modern neural networks.\n",
        "\n",
        "What do we mean by explainability? Consider the neural network $f(\\cdot)$ you just trained, and a prediction $\\hat{y} = f(x)$ we want to analyze. **Feature attribution** methods try to assign a weight $w_i$ to each input feature $x_i$, to understand which parts of the input have contributed the most to the explanation.\n",
        "\n",
        "The simplest feature attribution technique, called **vanilla saliency map**, simply computes the gradient at that point:\n",
        "\n",
        "$$\n",
        "  S(x) = \\left\\lvert \\frac{\\partial f_c(x)}{\\partial x} \\right\\rvert\n",
        "$$\n",
        "\n",
        "where  $c$ is the index corresponding to the predicted class.\n",
        "\n",
        "✅ **Completion requirement**: Take any point from your test dataset, and compute a saliency map using `tf.GradientTape`. Check the weight to see if you can find anything to \"interpret\". **Note**: I am not evaluating how nice / good the explanation is, only the code."
      ],
      "metadata": {
        "id": "0i1Jr0mQ7lRY"
      }
    },
    {
      "cell_type": "code",
      "source": [],
      "metadata": {
        "id": "BNJeqJLeB-yS",
        "outputId": "586baa48-2547-4f51-c685-ab82b8cf7d61",
        "colab": {
          "base_uri": "https://localhost:8080/"
        }
      },
      "execution_count": 34,
      "outputs": [
        {
          "output_type": "execute_result",
          "data": {
            "text/plain": [
              "<tf.Tensor: shape=(1,), dtype=float32, numpy=array([0.19455032], dtype=float32)>"
            ]
          },
          "metadata": {},
          "execution_count": 34
        }
      ]
    },
    {
      "cell_type": "code",
      "source": [
        "# TODO: Take an element from your test set and compute the saliency map\n",
        "sample = X.iloc[0].values\n",
        "sample = tf.convert_to_tensor(sample, dtype=tf.float32)\n",
        "sample = tf.expand_dims(sample, axis=0)\n",
        "y_true = y[0]\n",
        "print(f\"Considering true value : {y_true}\")\n",
        "with tf.GradientTape() as tape:\n",
        "    tape.watch(sample)\n",
        "    prediction = model(sample)\n",
        "    loss = tf.keras.losses.binary_crossentropy(y_true, prediction[0])\n",
        "\n",
        "gradients = tape.gradient(loss, sample)\n",
        "print(\"The gradient is the following \\n\", gradients )\n",
        "print(f\"The most discimative variable is {X.columns[np.argmax(np.abs(gradients))]} \\n with value of the gradient equal to {np.max(np.abs(gradients))}\")"
      ],
      "metadata": {
        "id": "WGeQDlEpJ-3b",
        "colab": {
          "base_uri": "https://localhost:8080/"
        },
        "outputId": "db606b5c-7d23-4bb1-8695-be63270566a4"
      },
      "execution_count": 36,
      "outputs": [
        {
          "output_type": "stream",
          "name": "stdout",
          "text": [
            "Considering true value : 0\n",
            "The gradient is the following \n",
            " tf.Tensor(\n",
            "[[ 2.1837354e-02 -6.6929966e-01 -5.2940893e-01 -8.8696331e-03\n",
            "  -2.4840519e-01 -1.3174406e-03  2.2598787e-03  2.1369103e-02\n",
            "  -8.2150716e-01  1.6496335e+00  1.1655572e-01]], shape=(1, 11), dtype=float32)\n",
            "The most discimative variable is sulphates \n",
            " with value of the gradient equal to 1.649633526802063\n"
          ]
        }
      ]
    },
    {
      "cell_type": "code",
      "source": [
        "sample = tf.expand_dims(sample, axis=0)\n",
        "y_true = y[3]\n",
        "print(f\"Considering true value : {y_true}\")\n",
        "with tf.GradientTape() as tape:\n",
        "    tape.watch(sample)\n",
        "    prediction = model(sample)\n",
        "    loss = tf.keras.losses.binary_crossentropy(y_true, prediction[0])  # Assuming 'y_true' is your ground truth labels\n",
        "\n",
        "gradients = tape.gradient(loss, sample)\n",
        "print(\"The gradient is the following \\n\", gradients )\n",
        "print(f\"The most discimative variable is {X.columns[np.argmax(np.abs(gradients))]} \\n with value of the gradient equal to {np.max(np.abs(gradients))}\")"
      ],
      "metadata": {
        "colab": {
          "base_uri": "https://localhost:8080/"
        },
        "id": "CCLgx91uHhiy",
        "outputId": "99db37a9-3470-4f6a-8f82-249f88b79411"
      },
      "execution_count": 39,
      "outputs": [
        {
          "output_type": "stream",
          "name": "stdout",
          "text": [
            "Considering true value : 1\n",
            "The gradient is the following \n",
            " tf.Tensor(\n",
            "[[ 1.18678086e-01  2.05464387e+00  1.08096898e+00  7.33185783e-02\n",
            "   5.72213936e+00  1.11544260e-03  1.48907807e-02  3.53658867e+00\n",
            "  -7.87692070e-01 -4.93988323e+00 -7.43921638e-01]], shape=(1, 11), dtype=float32)\n",
            "The most discimative variable is chlorides \n",
            " with value of the gradient equal to 5.722139358520508\n"
          ]
        }
      ]
    },
    {
      "cell_type": "code",
      "source": [
        "# TODO: Check the saliency map to analyze the result. What can you say about the map?"
      ],
      "metadata": {
        "id": "o4nEAHpD6dlc"
      },
      "execution_count": null,
      "outputs": []
    },
    {
      "cell_type": "markdown",
      "source": [
        "### Exercise 3: Advanced saliency maps (1 point)\n",
        "\n",
        "> For this exercise, you can read [2] for an overview on the limits of vanilla saliency maps and a description of SmoothGrad.\n",
        "\n",
        "Saliency maps have several issues: most notably, they suffer from noise and they are not stable to small changes in the input or in the model (try running again the training and interpreting the same point). Many methods have been proposed to overcome this.\n",
        "\n",
        "**[SmoothGrad](https://arxiv.org/abs/1706.03825)**, for example, computes multiple saliency maps from noisy versions of the input:\n",
        "\n",
        "$$\n",
        "  \\text{SmoothGrad}(x) = \\frac{1}{n}\\sum_{i=1}^n S(x + \\varepsilon_i), \\;\\; \\varepsilon_i \\sim \\mathcal{N}(0, \\sigma^2I)\n",
        "$$\n",
        "\n",
        "where $\\varepsilon$ is a vector of the same shape as $x$, whose values are sampled from a normal distribution with zero mean and small variance.\n",
        "\n",
        "🟩 **Completion requirement**: Implement the SmoothGrad procedure for the same point. Has the explanation improved? Bonus points if you can avoid running a for-loop, and by calling the gradient operation a single time.\n"
      ],
      "metadata": {
        "id": "XXUhR5ZH9PKQ"
      }
    },
    {
      "cell_type": "code",
      "source": [
        "# TODO: Take an element from your test set and compute SmoothGrad. Check the results and compare with respect to the previous exercise.\n",
        "eps = np.random.normal(loc=0.0, scale= 0.1, size= 11)\n",
        "sample = X.iloc[3].values + eps\n",
        "sample = tf.expand_dims(sample, axis=0)\n",
        "y_true = y[3]\n",
        "print(f\"Considering true value : {y_true}\")\n",
        "with tf.GradientTape() as tape:\n",
        "    tape.watch(sample)\n",
        "    prediction = model(sample)\n",
        "    loss = tf.keras.losses.binary_crossentropy(y_true, prediction[0])  # Assuming 'y_true' is your ground truth labels\n",
        "\n",
        "gradients = tape.gradient(loss, sample)\n",
        "print(\"The gradient is the following \\n\", gradients )\n",
        "print(f\"The most discimative variable is {X.columns[np.argmax(np.abs(gradients))]} \\n with value of the gradient equal to {np.max(np.abs(gradients))}\")\n"
      ],
      "metadata": {
        "id": "rJZBZUFA6POv",
        "outputId": "cf055216-79ab-4f92-d2bb-1c65457f62d8",
        "colab": {
          "base_uri": "https://localhost:8080/"
        }
      },
      "execution_count": 47,
      "outputs": [
        {
          "output_type": "stream",
          "name": "stdout",
          "text": [
            "Considering true value : 1\n",
            "The gradient is the following \n",
            " tf.Tensor(\n",
            "[[ 0.14991823  0.7306776   0.94545031 -0.05690983  2.62454438  0.03834249\n",
            "   0.02275442  0.97320694 -0.48211744 -2.54299212 -0.53475398]], shape=(1, 11), dtype=float64)\n",
            "The most discimative variable is chlorides \n",
            " with value of the gradient equal to 2.624544382095337\n"
          ]
        }
      ]
    },
    {
      "cell_type": "code",
      "source": [
        "# TODO HAS THE EXPLANATION IMPROVED???\n",
        "\n",
        "# LAURA TI OBBlIGA A LEGGERE IL PAPER"
      ],
      "metadata": {
        "id": "onCdogDBEcU_"
      },
      "execution_count": 48,
      "outputs": []
    },
    {
      "cell_type": "markdown",
      "source": [
        "### Exercise 4: Global explanations (2 points)\n",
        "\n",
        "The previous exercises are examples of **local** explanations, where we try to interpret a single prediction of the network. Sometimes we are interested in **global** explanations, that try to find common patterns of behaviour. Suppose we have a dataset $\\mathcal{T} = \\left\\{x_i\\right\\}$ of examples, we can compute some approximate global measure of influence by averaging their saliency:\n",
        "\n",
        "$$\n",
        "\\text{GlobalSaliency} = \\frac{1}{n} \\sum_i S(x_i)\n",
        "$$\n",
        "\n",
        "To make this exercise more interesting, we will split it into 3 parts.\n",
        "\n",
        "**Exercise 4.1**: write a function to compute in parallel the saliency for multiple examples. Note that the resulting matrix $S$ will have shape $(n, d)$, where $n$ is the number of examples and $d$ the size of the input, which is the Jacobian of the network. Try to write the function by avoiding for-loops and multiple tapes, using the [proper tools from TensorFlow](https://www.tensorflow.org/guide/advanced_autodiff)."
      ],
      "metadata": {
        "id": "pIFUonMOY-Mh"
      }
    },
    {
      "cell_type": "code",
      "source": [
        "predictions = model(sample)"
      ],
      "metadata": {
        "id": "Z4oE7FEvFjij"
      },
      "execution_count": 58,
      "outputs": []
    },
    {
      "cell_type": "code",
      "source": [],
      "metadata": {
        "id": "gAFcQHXsF2tu",
        "outputId": "f728c2ac-b200-4d16-b3b4-ed4aa48fbaaa",
        "colab": {
          "base_uri": "https://localhost:8080/"
        }
      },
      "execution_count": 59,
      "outputs": [
        {
          "output_type": "execute_result",
          "data": {
            "text/plain": [
              "<tf.Tensor: shape=(1599, 1), dtype=float32, numpy=\n",
              "array([[0.19455035],\n",
              "       [0.48868293],\n",
              "       [0.57954407],\n",
              "       ...,\n",
              "       [0.8911009 ],\n",
              "       [0.46317926],\n",
              "       [0.92672366]], dtype=float32)>"
            ]
          },
          "metadata": {},
          "execution_count": 59
        }
      ]
    },
    {
      "cell_type": "code",
      "source": [
        "# TODO: Write the required function, possibly avoding for-loops.\n",
        "\n",
        "def compute_saliency_map(x,y):\n",
        "  sample = tf.convert_to_tensor(x, dtype=tf.float32)\n",
        "  with tf.GradientTape() as tape:\n",
        "    tape.watch(sample)\n",
        "    predictions = tf.reshape(model(sample) , -1)\n",
        "    loss = tf.keras.losses.binary_crossentropy(y, predictions)\n",
        "  gradients = np.abs(tape.gradient(loss, sample))\n",
        "\n",
        "  return gradients\n",
        "\n",
        "\n",
        "\n",
        "\n",
        "\n"
      ],
      "metadata": {
        "id": "nJdQ6nbp-rIM"
      },
      "execution_count": 70,
      "outputs": []
    },
    {
      "cell_type": "markdown",
      "source": [
        "**Exercise 4.2**: write a function to compute the global saliency and try to explain the results."
      ],
      "metadata": {
        "id": "As4lalRBcMHw"
      }
    },
    {
      "cell_type": "code",
      "source": [
        "# TODO: Write the required function.\n",
        "\n",
        "\n",
        "def global_saliency(X,y):\n",
        "  S = compute_saliency_map(X,y)\n",
        "  return np.mean(S , axis = 0)\n",
        "\n",
        "\n",
        "\n",
        "global_saliency_map  = global_saliency(X_test , y_test)\n",
        "\n",
        "\n",
        "global_saliency_map\n",
        "\n"
      ],
      "metadata": {
        "id": "O08JfYJQcS1u"
      },
      "execution_count": 73,
      "outputs": []
    },
    {
      "cell_type": "markdown",
      "source": [
        "**Exercise 4.3**: note that a linear model $f(x) = w^\\top x + b$ is an example of an *intrinsically* interpretable  model, since the weights $w$ can be checked to analyze the global saliency of each feature (see [3])."
      ],
      "metadata": {
        "id": "D2j6pi3XcX86"
      }
    },
    {
      "cell_type": "code",
      "source": [
        "# TODO: Compare the results you obtained before with a simpler linear model.\n",
        "from sklearn.linear_model import LogisticRegression\n",
        "from sklearn.metrics import accuracy_score\n",
        "\n",
        "model = LogisticRegression()\n",
        "\n",
        "# Train the model\n",
        "model.fit(X_train, y_train)\n",
        "\n",
        "\n",
        "y_pred = model.predict(X_test)\n",
        "\n",
        "# Evaluate the model\n",
        "accuracy = accuracy_score(y_test, y_pred)\n",
        "\n",
        "\n",
        "coefficients = model.coef_\n",
        "intercept = model.intercept_"
      ],
      "metadata": {
        "id": "vjnDxBNicom1",
        "outputId": "543e796b-cc06-4d8f-f224-8ca59bef4937",
        "colab": {
          "base_uri": "https://localhost:8080/"
        }
      },
      "execution_count": 80,
      "outputs": [
        {
          "output_type": "stream",
          "name": "stderr",
          "text": [
            "/usr/local/lib/python3.10/dist-packages/sklearn/linear_model/_logistic.py:458: ConvergenceWarning: lbfgs failed to converge (status=1):\n",
            "STOP: TOTAL NO. of ITERATIONS REACHED LIMIT.\n",
            "\n",
            "Increase the number of iterations (max_iter) or scale the data as shown in:\n",
            "    https://scikit-learn.org/stable/modules/preprocessing.html\n",
            "Please also refer to the documentation for alternative solver options:\n",
            "    https://scikit-learn.org/stable/modules/linear_model.html#logistic-regression\n",
            "  n_iter_i = _check_optimize_result(\n"
          ]
        }
      ]
    },
    {
      "cell_type": "code",
      "source": [
        "coefficients"
      ],
      "metadata": {
        "id": "jkWA4_rYHcO8",
        "outputId": "7ebf2c33-b1f2-4bd4-abbd-6c1527c245a2",
        "colab": {
          "base_uri": "https://localhost:8080/"
        }
      },
      "execution_count": 81,
      "outputs": [
        {
          "output_type": "execute_result",
          "data": {
            "text/plain": [
              "array([[-0.06974533, -2.84970243, -0.34766818,  0.02385688, -1.89600533,\n",
              "         0.01195107, -0.015398  , -1.25104806, -1.08791468,  1.65107672,\n",
              "         0.90728524]])"
            ]
          },
          "metadata": {},
          "execution_count": 81
        }
      ]
    },
    {
      "cell_type": "code",
      "source": [
        "# TODO plot con il valore del parametro associato alla covariata"
      ],
      "metadata": {
        "id": "ZPcdnfJ2HgBY"
      },
      "execution_count": null,
      "outputs": []
    },
    {
      "cell_type": "markdown",
      "source": [
        "### Optional exercises and parting words\n",
        "\n",
        "> ⚠ Explainability is a complex topic, with multiple issues arising from the over-abundance of techniques, their instability, etc. While an interesting research topic to pursue, never use blindly these techniques in high-stake applications!\n",
        "\n",
        "These exercises were just a brief and short introduction to the topic of explainability. Below you can find some additional exercises to tackle if you are interested. Remember that these are not part of your grade, but I am happy to provide feedback if they are of interest to you.\n",
        "\n",
        "1. There are dozens of possible variations on feature attribution methods, which may or may not provide better results (see [4] for a benchmarking and this nice [Distill blog post](https://distill.pub/2020/attribution-baselines/)). **[Integrated Gradients](https://arxiv.org/abs/1703.01365)** are an interesting example, where the saliency is integrated over a path ranging from an empty input to the true input. Try implementing integrated gradients.\n",
        "2. **Data attribution** methods are a different class of explanation methods, which try to predict what points in the dataset where most influential to a given prediction (e.g., a picture of a cat will be especially influential on similar pictures). One example of such methods is TracIn [5], which stores checkpoints of the model during training and evaluates the correlation of the gradients. Try to implement TracIn or any other metric of data influence.\n",
        "3. A recent line of research tries to use large language models (e.g., ChatGPT) to explain other models (e.g., see [Language models can explain neurons in language models](https://openai.com/research/language-models-can-explain-neurons-in-language-models)). If you have access to an LLM, you can try it! Take a specific neuron in the model, and collect the activation for multiple examples. Provide these activations to the LLM, and prompt it to provide a human-understandable explanation. What is the result?"
      ],
      "metadata": {
        "id": "Pp2K2VXGdAtd"
      }
    },
    {
      "cell_type": "markdown",
      "source": [
        "### Final checklist\n",
        "\n",
        "1. Carefully check all code. Insert comments when needed. Search for \"TODO\" to see if you forgot something.\n",
        "2. Run everything one final time. *Please do not send me notebooks with errors or cells that are not working.*\n",
        "3. Upload the completed notebook **before 10/11/2023 23:59** on the Google Classrom page."
      ],
      "metadata": {
        "id": "GIyU8c7lh4Ly"
      }
    },
    {
      "cell_type": "markdown",
      "source": [
        "### Bibliography\n",
        "\n",
        "[1] Simonyan, K., Vedaldi, A. and Zisserman, A., 2013. [Deep inside convolutional networks: Visualising image classification models and saliency maps](https://arxiv.org/abs/1312.6034). arXiv preprint arXiv:1312.6034.\n",
        "\n",
        "[2] Smilkov, D., Thorat, N., Kim, B., Viégas, F. and Wattenberg, M., 2017. [SmoothGrad: removing noise by adding noise](https://arxiv.org/abs/1706.03825). arXiv preprint arXiv:1706.03825.\n",
        "\n",
        "[3] Rudin, C., 2019. [Stop explaining black box machine learning models for high stakes decisions and use interpretable models instead](https://www.nature.com/articles/s42256-019-0048-x). Nature Machine Intelligence, 1(5), pp. 206-215.\n",
        "\n",
        "[4] Nguyen, G., Kim, D. and Nguyen, A., 2021. [The effectiveness of feature attribution methods and its correlation with automatic evaluation scores](https://proceedings.neurips.cc/paper/2021/hash/de043a5e421240eb846da8effe472ff1-Abstract.html). Advances in Neural Information Processing Systems, 34, pp.26422-26436.\n",
        "\n",
        "[5] Pruthi, G., Liu, F., Kale, S. and Sundararajan, M., 2020. [Estimating training data influence by tracing gradient descent](https://proceedings.neurips.cc/paper/2020/hash/e6385d39ec9394f2f3a354d9d2b88eec-Abstract.html). Advances in Neural Information Processing Systems, 33, pp. 19920-19930."
      ],
      "metadata": {
        "id": "YCfzjQOIe6CQ"
      }
    }
  ]
}